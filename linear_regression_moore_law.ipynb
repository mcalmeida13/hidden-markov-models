{
  "nbformat": 4,
  "nbformat_minor": 0,
  "metadata": {
    "colab": {
      "name": "linear-regression-moore-law",
      "provenance": [],
      "authorship_tag": "ABX9TyM8TciHWwOpbkMU0jvVAFAe",
      "include_colab_link": true
    },
    "kernelspec": {
      "name": "python3",
      "display_name": "Python 3"
    },
    "language_info": {
      "name": "python"
    }
  },
  "cells": [
    {
      "cell_type": "markdown",
      "metadata": {
        "id": "view-in-github",
        "colab_type": "text"
      },
      "source": [
        "<a href=\"https://colab.research.google.com/github/mcalmeida13/hidden-markov-models/blob/main/linear_regression_moore_law.ipynb\" target=\"_parent\"><img src=\"https://colab.research.google.com/assets/colab-badge.svg\" alt=\"Open In Colab\"/></a>"
      ]
    },
    {
      "cell_type": "code",
      "metadata": {
        "id": "TrBUTfoymlmW"
      },
      "source": [
        "import numpy as np\n",
        "import pandas as pd\n",
        "import matplotlib.pyplot as plt"
      ],
      "execution_count": 1,
      "outputs": []
    },
    {
      "cell_type": "markdown",
      "metadata": {
        "id": "iQ8vp-FamtgX"
      },
      "source": [
        "Reference\n",
        "\n",
        "https://en.wikipedia.org/wiki/Transistor_count"
      ]
    },
    {
      "cell_type": "code",
      "metadata": {
        "id": "wnSP7GH3mq9k"
      },
      "source": [
        "columns = ['processor','mos_transistor_count','date_introduction','designer','mos_process_nm','area_mm']"
      ],
      "execution_count": 62,
      "outputs": []
    },
    {
      "cell_type": "code",
      "metadata": {
        "colab": {
          "base_uri": "https://localhost:8080/",
          "height": 204
        },
        "id": "3cj2OXFWmyfW",
        "outputId": "cd00c0db-6782-4b0a-9f47-ba2066f966f6"
      },
      "source": [
        "url = 'https://raw.githubusercontent.com/lazyprogrammer/machine_learning_examples/master/linear_regression_class/moore.csv'\n",
        "df = pd.read_csv(url, sep='\\t',names=columns)\n",
        "df.head()"
      ],
      "execution_count": 63,
      "outputs": [
        {
          "output_type": "execute_result",
          "data": {
            "text/html": [
              "<div>\n",
              "<style scoped>\n",
              "    .dataframe tbody tr th:only-of-type {\n",
              "        vertical-align: middle;\n",
              "    }\n",
              "\n",
              "    .dataframe tbody tr th {\n",
              "        vertical-align: top;\n",
              "    }\n",
              "\n",
              "    .dataframe thead th {\n",
              "        text-align: right;\n",
              "    }\n",
              "</style>\n",
              "<table border=\"1\" class=\"dataframe\">\n",
              "  <thead>\n",
              "    <tr style=\"text-align: right;\">\n",
              "      <th></th>\n",
              "      <th>processor</th>\n",
              "      <th>mos_transistor_count</th>\n",
              "      <th>date_introduction</th>\n",
              "      <th>designer</th>\n",
              "      <th>mos_process_nm</th>\n",
              "      <th>area_mm</th>\n",
              "    </tr>\n",
              "  </thead>\n",
              "  <tbody>\n",
              "    <tr>\n",
              "      <th>0</th>\n",
              "      <td>Intel 4004</td>\n",
              "      <td>2,300</td>\n",
              "      <td>1971</td>\n",
              "      <td>Intel</td>\n",
              "      <td>10,000 nm</td>\n",
              "      <td>12 mm²</td>\n",
              "    </tr>\n",
              "    <tr>\n",
              "      <th>1</th>\n",
              "      <td>Intel 8008</td>\n",
              "      <td>3,500</td>\n",
              "      <td>1972</td>\n",
              "      <td>Intel</td>\n",
              "      <td>10,000 nm</td>\n",
              "      <td>14 mm²</td>\n",
              "    </tr>\n",
              "    <tr>\n",
              "      <th>2</th>\n",
              "      <td>Intel 8080</td>\n",
              "      <td>4,500</td>\n",
              "      <td>1974</td>\n",
              "      <td>Intel</td>\n",
              "      <td>6,000 nm</td>\n",
              "      <td>20 mm²</td>\n",
              "    </tr>\n",
              "    <tr>\n",
              "      <th>3</th>\n",
              "      <td>Motorola 6800</td>\n",
              "      <td>4,100</td>\n",
              "      <td>1974</td>\n",
              "      <td>Motorola</td>\n",
              "      <td>6,000 nm</td>\n",
              "      <td>16 mm²</td>\n",
              "    </tr>\n",
              "    <tr>\n",
              "      <th>4</th>\n",
              "      <td>RCA 1802</td>\n",
              "      <td>5,000</td>\n",
              "      <td>1974</td>\n",
              "      <td>RCA</td>\n",
              "      <td>5,000 nm</td>\n",
              "      <td>27 mm²</td>\n",
              "    </tr>\n",
              "  </tbody>\n",
              "</table>\n",
              "</div>"
            ],
            "text/plain": [
              "       processor mos_transistor_count  ... mos_process_nm area_mm\n",
              "0     Intel 4004                2,300  ...      10,000 nm  12 mm²\n",
              "1     Intel 8008                3,500  ...      10,000 nm  14 mm²\n",
              "2     Intel 8080                4,500  ...       6,000 nm  20 mm²\n",
              "3  Motorola 6800                4,100  ...       6,000 nm  16 mm²\n",
              "4       RCA 1802                5,000  ...       5,000 nm  27 mm²\n",
              "\n",
              "[5 rows x 6 columns]"
            ]
          },
          "metadata": {},
          "execution_count": 63
        }
      ]
    },
    {
      "cell_type": "code",
      "metadata": {
        "colab": {
          "base_uri": "https://localhost:8080/"
        },
        "id": "hCRgeMFknOSC",
        "outputId": "7e7be29c-36f1-4137-fc62-caeb17a00374"
      },
      "source": [
        "df.info()"
      ],
      "execution_count": 64,
      "outputs": [
        {
          "output_type": "stream",
          "name": "stdout",
          "text": [
            "<class 'pandas.core.frame.DataFrame'>\n",
            "RangeIndex: 102 entries, 0 to 101\n",
            "Data columns (total 6 columns):\n",
            " #   Column                Non-Null Count  Dtype \n",
            "---  ------                --------------  ----- \n",
            " 0   processor             102 non-null    object\n",
            " 1   mos_transistor_count  102 non-null    object\n",
            " 2   date_introduction     102 non-null    object\n",
            " 3   designer              102 non-null    object\n",
            " 4   mos_process_nm        97 non-null     object\n",
            " 5   area_mm               95 non-null     object\n",
            "dtypes: object(6)\n",
            "memory usage: 4.9+ KB\n"
          ]
        }
      ]
    },
    {
      "cell_type": "code",
      "metadata": {
        "id": "470GdehAniRI"
      },
      "source": [
        "df['mos_transistor_count'] = df['mos_transistor_count'].str.replace(',','')"
      ],
      "execution_count": 65,
      "outputs": []
    },
    {
      "cell_type": "code",
      "metadata": {
        "id": "wUY1MAlYpSmg"
      },
      "source": [
        "df['mos_transistor_count'] = df['mos_transistor_count'].apply(lambda x: x.split('[')[0])"
      ],
      "execution_count": 66,
      "outputs": []
    },
    {
      "cell_type": "code",
      "metadata": {
        "colab": {
          "base_uri": "https://localhost:8080/"
        },
        "id": "oUcPnZxCptgD",
        "outputId": "5d26161e-2d60-49ea-bd2f-699cf5eea4fb"
      },
      "source": [
        "df['mos_transistor_count'].unique()"
      ],
      "execution_count": 67,
      "outputs": [
        {
          "output_type": "execute_result",
          "data": {
            "text/plain": [
              "array(['2300', '3500', '4500', '4100', '5000', '8000', '3510', '6500',\n",
              "       '8500', '29000', '9000', '68000', '11500', '55000', '134000',\n",
              "       '22000', '190000', '25000', '275000', '16000', '30000', '553000',\n",
              "       '180000', '250000', '300000', '1180235', '35000', '1350000',\n",
              "       '3100000', '578977', '5500000', '2500000', '4300000', '8800000',\n",
              "       '7500000', '21300000', '22000000', '111000', '27400000', '9500000',\n",
              "       '42000000', '21000000', '45000000', '220000000', '55000000',\n",
              "       '105900000', '54300000', '410000000', '592000000', '112000000',\n",
              "       '169000000', '228000000', '241000000', '291000000', '1700000000',\n",
              "       '184000000', '362000000', '463000000', '26000000', '411000000',\n",
              "       '789000000', '758000000', '47000000', '230000000', '731000000',\n",
              "       '1900000000', '904000000', '1000000000', '1200000000',\n",
              "       '2300000000', '2000000000', '1400000000', '1170000000',\n",
              "       '2600000000', '1160000000', '2270000000', '5000000000',\n",
              "       '3100000000', '2100000000', '1303000000', '2750000000',\n",
              "       '4200000000', '1860000000', '4310000000', '5560000000',\n",
              "       '3000000000', '3990000000', '7100000000', 'cca 1750000000',\n",
              "       '10000000000', '~7200000000'], dtype=object)"
            ]
          },
          "metadata": {},
          "execution_count": 67
        }
      ]
    },
    {
      "cell_type": "code",
      "metadata": {
        "id": "CBRqM6ttp-fT"
      },
      "source": [
        "df['mos_transistor_count'] = df['mos_transistor_count'].str.replace('~','')\n",
        "df['mos_transistor_count'] = df['mos_transistor_count'].str.replace('cca ','')"
      ],
      "execution_count": 68,
      "outputs": []
    },
    {
      "cell_type": "code",
      "metadata": {
        "id": "qj2rGuzHpfre"
      },
      "source": [
        "df['date_introduction'] = df['date_introduction'].apply(lambda x: x.split('[')[0])"
      ],
      "execution_count": 69,
      "outputs": []
    },
    {
      "cell_type": "code",
      "metadata": {
        "id": "c7B0HxdSpjx6"
      },
      "source": [
        "df['mos_transistor_count'] = df['mos_transistor_count'].astype(int)\n",
        "df['date_introduction'] = df['date_introduction'].astype(int)"
      ],
      "execution_count": 70,
      "outputs": []
    },
    {
      "cell_type": "code",
      "metadata": {
        "colab": {
          "base_uri": "https://localhost:8080/",
          "height": 204
        },
        "id": "BP5ESCNOnpF8",
        "outputId": "2c49d213-c871-43a0-b36f-6d1fe99c8211"
      },
      "source": [
        "df.head()"
      ],
      "execution_count": 71,
      "outputs": [
        {
          "output_type": "execute_result",
          "data": {
            "text/html": [
              "<div>\n",
              "<style scoped>\n",
              "    .dataframe tbody tr th:only-of-type {\n",
              "        vertical-align: middle;\n",
              "    }\n",
              "\n",
              "    .dataframe tbody tr th {\n",
              "        vertical-align: top;\n",
              "    }\n",
              "\n",
              "    .dataframe thead th {\n",
              "        text-align: right;\n",
              "    }\n",
              "</style>\n",
              "<table border=\"1\" class=\"dataframe\">\n",
              "  <thead>\n",
              "    <tr style=\"text-align: right;\">\n",
              "      <th></th>\n",
              "      <th>processor</th>\n",
              "      <th>mos_transistor_count</th>\n",
              "      <th>date_introduction</th>\n",
              "      <th>designer</th>\n",
              "      <th>mos_process_nm</th>\n",
              "      <th>area_mm</th>\n",
              "    </tr>\n",
              "  </thead>\n",
              "  <tbody>\n",
              "    <tr>\n",
              "      <th>0</th>\n",
              "      <td>Intel 4004</td>\n",
              "      <td>2300</td>\n",
              "      <td>1971</td>\n",
              "      <td>Intel</td>\n",
              "      <td>10,000 nm</td>\n",
              "      <td>12 mm²</td>\n",
              "    </tr>\n",
              "    <tr>\n",
              "      <th>1</th>\n",
              "      <td>Intel 8008</td>\n",
              "      <td>3500</td>\n",
              "      <td>1972</td>\n",
              "      <td>Intel</td>\n",
              "      <td>10,000 nm</td>\n",
              "      <td>14 mm²</td>\n",
              "    </tr>\n",
              "    <tr>\n",
              "      <th>2</th>\n",
              "      <td>Intel 8080</td>\n",
              "      <td>4500</td>\n",
              "      <td>1974</td>\n",
              "      <td>Intel</td>\n",
              "      <td>6,000 nm</td>\n",
              "      <td>20 mm²</td>\n",
              "    </tr>\n",
              "    <tr>\n",
              "      <th>3</th>\n",
              "      <td>Motorola 6800</td>\n",
              "      <td>4100</td>\n",
              "      <td>1974</td>\n",
              "      <td>Motorola</td>\n",
              "      <td>6,000 nm</td>\n",
              "      <td>16 mm²</td>\n",
              "    </tr>\n",
              "    <tr>\n",
              "      <th>4</th>\n",
              "      <td>RCA 1802</td>\n",
              "      <td>5000</td>\n",
              "      <td>1974</td>\n",
              "      <td>RCA</td>\n",
              "      <td>5,000 nm</td>\n",
              "      <td>27 mm²</td>\n",
              "    </tr>\n",
              "  </tbody>\n",
              "</table>\n",
              "</div>"
            ],
            "text/plain": [
              "       processor  mos_transistor_count  ...  mos_process_nm area_mm\n",
              "0     Intel 4004                  2300  ...       10,000 nm  12 mm²\n",
              "1     Intel 8008                  3500  ...       10,000 nm  14 mm²\n",
              "2     Intel 8080                  4500  ...        6,000 nm  20 mm²\n",
              "3  Motorola 6800                  4100  ...        6,000 nm  16 mm²\n",
              "4       RCA 1802                  5000  ...        5,000 nm  27 mm²\n",
              "\n",
              "[5 rows x 6 columns]"
            ]
          },
          "metadata": {},
          "execution_count": 71
        }
      ]
    },
    {
      "cell_type": "code",
      "metadata": {
        "id": "qyC87Cwam4fN"
      },
      "source": [
        "df['log_transistor_count'] = np.log(df['mos_transistor_count'])"
      ],
      "execution_count": 72,
      "outputs": []
    },
    {
      "cell_type": "code",
      "metadata": {
        "colab": {
          "base_uri": "https://localhost:8080/",
          "height": 204
        },
        "id": "Fq8wV3mmnMY3",
        "outputId": "78795968-ca8f-4a83-dc45-cec8f2f826e0"
      },
      "source": [
        "df.head()"
      ],
      "execution_count": 73,
      "outputs": [
        {
          "output_type": "execute_result",
          "data": {
            "text/html": [
              "<div>\n",
              "<style scoped>\n",
              "    .dataframe tbody tr th:only-of-type {\n",
              "        vertical-align: middle;\n",
              "    }\n",
              "\n",
              "    .dataframe tbody tr th {\n",
              "        vertical-align: top;\n",
              "    }\n",
              "\n",
              "    .dataframe thead th {\n",
              "        text-align: right;\n",
              "    }\n",
              "</style>\n",
              "<table border=\"1\" class=\"dataframe\">\n",
              "  <thead>\n",
              "    <tr style=\"text-align: right;\">\n",
              "      <th></th>\n",
              "      <th>processor</th>\n",
              "      <th>mos_transistor_count</th>\n",
              "      <th>date_introduction</th>\n",
              "      <th>designer</th>\n",
              "      <th>mos_process_nm</th>\n",
              "      <th>area_mm</th>\n",
              "      <th>log_transistor_count</th>\n",
              "    </tr>\n",
              "  </thead>\n",
              "  <tbody>\n",
              "    <tr>\n",
              "      <th>0</th>\n",
              "      <td>Intel 4004</td>\n",
              "      <td>2300</td>\n",
              "      <td>1971</td>\n",
              "      <td>Intel</td>\n",
              "      <td>10,000 nm</td>\n",
              "      <td>12 mm²</td>\n",
              "      <td>7.740664</td>\n",
              "    </tr>\n",
              "    <tr>\n",
              "      <th>1</th>\n",
              "      <td>Intel 8008</td>\n",
              "      <td>3500</td>\n",
              "      <td>1972</td>\n",
              "      <td>Intel</td>\n",
              "      <td>10,000 nm</td>\n",
              "      <td>14 mm²</td>\n",
              "      <td>8.160518</td>\n",
              "    </tr>\n",
              "    <tr>\n",
              "      <th>2</th>\n",
              "      <td>Intel 8080</td>\n",
              "      <td>4500</td>\n",
              "      <td>1974</td>\n",
              "      <td>Intel</td>\n",
              "      <td>6,000 nm</td>\n",
              "      <td>20 mm²</td>\n",
              "      <td>8.411833</td>\n",
              "    </tr>\n",
              "    <tr>\n",
              "      <th>3</th>\n",
              "      <td>Motorola 6800</td>\n",
              "      <td>4100</td>\n",
              "      <td>1974</td>\n",
              "      <td>Motorola</td>\n",
              "      <td>6,000 nm</td>\n",
              "      <td>16 mm²</td>\n",
              "      <td>8.318742</td>\n",
              "    </tr>\n",
              "    <tr>\n",
              "      <th>4</th>\n",
              "      <td>RCA 1802</td>\n",
              "      <td>5000</td>\n",
              "      <td>1974</td>\n",
              "      <td>RCA</td>\n",
              "      <td>5,000 nm</td>\n",
              "      <td>27 mm²</td>\n",
              "      <td>8.517193</td>\n",
              "    </tr>\n",
              "  </tbody>\n",
              "</table>\n",
              "</div>"
            ],
            "text/plain": [
              "       processor  mos_transistor_count  ...  area_mm log_transistor_count\n",
              "0     Intel 4004                  2300  ...   12 mm²             7.740664\n",
              "1     Intel 8008                  3500  ...   14 mm²             8.160518\n",
              "2     Intel 8080                  4500  ...   20 mm²             8.411833\n",
              "3  Motorola 6800                  4100  ...   16 mm²             8.318742\n",
              "4       RCA 1802                  5000  ...   27 mm²             8.517193\n",
              "\n",
              "[5 rows x 7 columns]"
            ]
          },
          "metadata": {},
          "execution_count": 73
        }
      ]
    },
    {
      "cell_type": "code",
      "metadata": {
        "id": "vyk_IwannhcP"
      },
      "source": [
        "X = df['date_introduction']\n",
        "y = df['mos_transistor_count']"
      ],
      "execution_count": 74,
      "outputs": []
    },
    {
      "cell_type": "code",
      "metadata": {
        "colab": {
          "base_uri": "https://localhost:8080/",
          "height": 276
        },
        "id": "txtERzWnqpzx",
        "outputId": "016b5f52-572f-495c-f368-c83b8bd6febc"
      },
      "source": [
        "plt.scatter(X,y)\n",
        "plt.show()"
      ],
      "execution_count": 75,
      "outputs": [
        {
          "output_type": "display_data",
          "data": {
            "image/png": "[encoded data removed]",
            "text/plain": [
              "<Figure size 432x288 with 1 Axes>"
            ]
          },
          "metadata": {
            "needs_background": "light"
          }
        }
      ]
    },
    {
      "cell_type": "code",
      "metadata": {
        "id": "0tQupII_qulR"
      },
      "source": [
        "y_log = df['log_transistor_count']"
      ],
      "execution_count": 76,
      "outputs": []
    },
    {
      "cell_type": "code",
      "metadata": {
        "colab": {
          "base_uri": "https://localhost:8080/",
          "height": 265
        },
        "id": "HMjTS0sBq0lB",
        "outputId": "2757ffd1-398e-4cf4-e07f-3466ab8d9360"
      },
      "source": [
        "plt.scatter(X,y_log)\n",
        "plt.show()"
      ],
      "execution_count": 77,
      "outputs": [
        {
          "output_type": "display_data",
          "data": {
            "image/png": "[encoded data removed]",
            "text/plain": [
              "<Figure size 432x288 with 1 Axes>"
            ]
          },
          "metadata": {
            "needs_background": "light"
          }
        }
      ]
    },
    {
      "cell_type": "code",
      "metadata": {
        "id": "D5CGYP0Oq-PH"
      },
      "source": [
        "xx = X.dot(X)\n",
        "xy = X.dot(y_log)"
      ],
      "execution_count": 78,
      "outputs": []
    },
    {
      "cell_type": "code",
      "metadata": {
        "id": "KeQJi-ZLrGVn"
      },
      "source": [
        "x_mean = X.mean()\n",
        "y_mean = y_log.mean()\n",
        "x_sum = X.sum()\n",
        "y_sum = y_log.sum()"
      ],
      "execution_count": 79,
      "outputs": []
    },
    {
      "cell_type": "code",
      "metadata": {
        "id": "VFOwIuC6rFd3"
      },
      "source": [
        "denominator = xx - x_mean*x_sum\n",
        "a = (xy - y_mean*x_sum)/denominator\n",
        "b = (y_mean*xx - x_mean*xy)/denominator"
      ],
      "execution_count": 80,
      "outputs": []
    },
    {
      "cell_type": "code",
      "metadata": {
        "id": "-Dk6KanjrdVS"
      },
      "source": [
        "y_hat = a*X + b"
      ],
      "execution_count": 81,
      "outputs": []
    },
    {
      "cell_type": "code",
      "metadata": {
        "colab": {
          "base_uri": "https://localhost:8080/",
          "height": 282
        },
        "id": "szT36EtDrpE2",
        "outputId": "9b83493d-e260-4f5b-969e-c461a131eb63"
      },
      "source": [
        "plt.scatter(X,y_log)\n",
        "plt.plot(X, y_hat)"
      ],
      "execution_count": 82,
      "outputs": [
        {
          "output_type": "execute_result",
          "data": {
            "text/plain": [
              "[<matplotlib.lines.Line2D at 0x7f31f6345450>]"
            ]
          },
          "metadata": {},
          "execution_count": 82
        },
        {
          "output_type": "display_data",
          "data": {
            "image/png": "[encoded data removed]",
            "text/plain": [
              "<Figure size 432x288 with 1 Axes>"
            ]
          },
          "metadata": {
            "needs_background": "light"
          }
        }
      ]
    },
    {
      "cell_type": "code",
      "metadata": {
        "colab": {
          "base_uri": "https://localhost:8080/"
        },
        "id": "fjuSLCHSrsUg",
        "outputId": "b5c9aa15-e73d-48d2-bf1e-e2c8e4c2621c"
      },
      "source": [
        "d1 = y_log - y_hat\n",
        "d2 = y_log -y_mean\n",
        "r2 = 1 - d1.dot(d1)/d2.dot(d2)\n",
        "print('a:',a)\n",
        "print('b:',b)\n",
        "print('the r-squared is::',r2)"
      ],
      "execution_count": 83,
      "outputs": [
        {
          "output_type": "stream",
          "name": "stdout",
          "text": [
            "a: 0.35104357336507297\n",
            "b: -685.0002843818177\n",
            "the r-squared is:: 0.9529442852285761\n"
          ]
        }
      ]
    },
    {
      "cell_type": "code",
      "metadata": {
        "id": "_US1Y_vqsRYN"
      },
      "source": [
        "# how long does it take to double?\n",
        "# log(transistorcount) = a*year + b\n",
        "# transistorcount = exp(b) * exp(a*year)\n",
        "# 2*transistorcount = 2 * exp(b) * exp(a*year) = exp(ln(2)) * exp(b) * exp(a * year) = exp(b) * exp(a * year + ln(2))\n",
        "# a*year2 = a*year1 + ln2\n",
        "# year2 = year1 + ln2/a"
      ],
      "execution_count": 84,
      "outputs": []
    },
    {
      "cell_type": "code",
      "metadata": {
        "colab": {
          "base_uri": "https://localhost:8080/"
        },
        "id": "bNzjg1ucsiJ_",
        "outputId": "3e1b12e5-2b9f-4125-ca85-7f6ea8ca132b"
      },
      "source": [
        "print(\"time to double:\", np.log(2)/a, \"years\")"
      ],
      "execution_count": 85,
      "outputs": [
        {
          "output_type": "stream",
          "name": "stdout",
          "text": [
            "time to double: 1.9745331723794202 years\n"
          ]
        }
      ]
    },
    {
      "cell_type": "code",
      "metadata": {
        "id": "CS2_iXQnsnDx"
      },
      "source": [
        ""
      ],
      "execution_count": null,
      "outputs": []
    }
  ]
}