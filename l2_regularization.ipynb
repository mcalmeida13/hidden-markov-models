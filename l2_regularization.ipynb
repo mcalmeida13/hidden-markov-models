{
  "nbformat": 4,
  "nbformat_minor": 0,
  "metadata": {
    "colab": {
      "name": "l2_regularization",
      "provenance": [],
      "collapsed_sections": [],
      "authorship_tag": "ABX9TyOZ0BQ+xgEJyzzhHP2ykNEr",
      "include_colab_link": true
    },
    "kernelspec": {
      "name": "python3",
      "display_name": "Python 3"
    },
    "language_info": {
      "name": "python"
    }
  },
  "cells": [
    {
      "cell_type": "markdown",
      "metadata": {
        "id": "view-in-github",
        "colab_type": "text"
      },
      "source": [
        "<a href=\"https://colab.research.google.com/github/mcalmeida13/math-machine-learning/blob/main/l2_regularization.ipynb\" target=\"_parent\"><img src=\"https://colab.research.google.com/assets/colab-badge.svg\" alt=\"Open In Colab\"/></a>"
      ]
    },
    {
      "cell_type": "code",
      "metadata": {
        "id": "qlJncSebKgWV"
      },
      "source": [
        "import numpy as np\n",
        "import pandas as pd\n",
        "import matplotlib.pyplot as plt"
      ],
      "execution_count": 1,
      "outputs": []
    },
    {
      "cell_type": "code",
      "metadata": {
        "colab": {
          "base_uri": "https://localhost:8080/",
          "height": 281
        },
        "id": "N9ClCST4Laqf",
        "outputId": "9bf8bed3-aa27-4d29-be7f-9ce807411c1a"
      },
      "source": [
        "# Generate the data without outliners\n",
        "\n",
        "N = 50 #sample size\n",
        "\n",
        "X = np.linspace(0,10,N)\n",
        "e = np.random.randn(N) #normaly distributed bias (noise)\n",
        "Y = 0.5*X + e\n",
        "\n",
        "# plot the data\n",
        "plt.scatter(X, Y)\n",
        "plt.title(\"Datas without outliers\")\n",
        "plt.show()"
      ],
      "execution_count": 2,
      "outputs": [
        {
          "output_type": "display_data",
          "data": {
            "image/png": "[encoded data removed]",
            "text/plain": [
              "<Figure size 432x288 with 1 Axes>"
            ]
          },
          "metadata": {
            "needs_background": "light"
          }
        }
      ]
    },
    {
      "cell_type": "markdown",
      "metadata": {
        "id": "Zuxnw6XDMGyA"
      },
      "source": [
        "The random bias makes data spread a little, but not to far from the y = 0.5*x"
      ]
    },
    {
      "cell_type": "code",
      "metadata": {
        "id": "4sg_I-VNMQgK"
      },
      "source": [
        "# Add outliers\n",
        "Y[-1] += 30\n",
        "Y[-2] += 30"
      ],
      "execution_count": 3,
      "outputs": []
    },
    {
      "cell_type": "code",
      "metadata": {
        "colab": {
          "base_uri": "https://localhost:8080/",
          "height": 281
        },
        "id": "yQv1epRbMigZ",
        "outputId": "2ec07309-83f5-48ee-b8c5-65f60faa1726"
      },
      "source": [
        "# plot the data\n",
        "plt.scatter(X, Y)\n",
        "plt.title(\"Datas with outliers\")\n",
        "plt.show()"
      ],
      "execution_count": 4,
      "outputs": [
        {
          "output_type": "display_data",
          "data": {
            "image/png": "[encoded data removed]",
            "text/plain": [
              "<Figure size 432x288 with 1 Axes>"
            ]
          },
          "metadata": {
            "needs_background": "light"
          }
        }
      ]
    },
    {
      "cell_type": "code",
      "metadata": {
        "colab": {
          "base_uri": "https://localhost:8080/",
          "height": 204
        },
        "id": "ew3JEXK4MkaV",
        "outputId": "c1311fb2-2978-47ef-ac72-c7bc697be878"
      },
      "source": [
        "df = pd.DataFrame()\n",
        "#Bias term\n",
        "df['X0'] = np.ones(len(X))\n",
        "df['X1'] = X\n",
        "df['Y'] = Y\n",
        "\n",
        "df.head()"
      ],
      "execution_count": 5,
      "outputs": [
        {
          "output_type": "execute_result",
          "data": {
            "text/html": [
              "<div>\n",
              "<style scoped>\n",
              "    .dataframe tbody tr th:only-of-type {\n",
              "        vertical-align: middle;\n",
              "    }\n",
              "\n",
              "    .dataframe tbody tr th {\n",
              "        vertical-align: top;\n",
              "    }\n",
              "\n",
              "    .dataframe thead th {\n",
              "        text-align: right;\n",
              "    }\n",
              "</style>\n",
              "<table border=\"1\" class=\"dataframe\">\n",
              "  <thead>\n",
              "    <tr style=\"text-align: right;\">\n",
              "      <th></th>\n",
              "      <th>X0</th>\n",
              "      <th>X1</th>\n",
              "      <th>Y</th>\n",
              "    </tr>\n",
              "  </thead>\n",
              "  <tbody>\n",
              "    <tr>\n",
              "      <th>0</th>\n",
              "      <td>1.0</td>\n",
              "      <td>0.000000</td>\n",
              "      <td>1.824745</td>\n",
              "    </tr>\n",
              "    <tr>\n",
              "      <th>1</th>\n",
              "      <td>1.0</td>\n",
              "      <td>0.204082</td>\n",
              "      <td>-1.112397</td>\n",
              "    </tr>\n",
              "    <tr>\n",
              "      <th>2</th>\n",
              "      <td>1.0</td>\n",
              "      <td>0.408163</td>\n",
              "      <td>0.246344</td>\n",
              "    </tr>\n",
              "    <tr>\n",
              "      <th>3</th>\n",
              "      <td>1.0</td>\n",
              "      <td>0.612245</td>\n",
              "      <td>1.080883</td>\n",
              "    </tr>\n",
              "    <tr>\n",
              "      <th>4</th>\n",
              "      <td>1.0</td>\n",
              "      <td>0.816327</td>\n",
              "      <td>0.842401</td>\n",
              "    </tr>\n",
              "  </tbody>\n",
              "</table>\n",
              "</div>"
            ],
            "text/plain": [
              "    X0        X1         Y\n",
              "0  1.0  0.000000  1.824745\n",
              "1  1.0  0.204082 -1.112397\n",
              "2  1.0  0.408163  0.246344\n",
              "3  1.0  0.612245  1.080883\n",
              "4  1.0  0.816327  0.842401"
            ]
          },
          "metadata": {},
          "execution_count": 5
        }
      ]
    },
    {
      "cell_type": "code",
      "metadata": {
        "id": "CyTw5ki9sko5"
      },
      "source": [
        "X = df.drop('Y', axis = 1)\n",
        "Y = df['Y']"
      ],
      "execution_count": 7,
      "outputs": []
    },
    {
      "cell_type": "code",
      "metadata": {
        "id": "NYqPFUaONfIa",
        "colab": {
          "base_uri": "https://localhost:8080/",
          "height": 265
        },
        "outputId": "85e5f8c5-0628-4257-a3e5-9c8cc508adb9"
      },
      "source": [
        "# plot the maximum likelihood solution\n",
        "w_ml = np.linalg.solve(X.T.dot(X), X.T.dot(Y))\n",
        "Yhat_ml = X.dot(w_ml)\n",
        "plt.scatter(X['X1'], Y)\n",
        "plt.plot(X['X1'], Yhat_ml)\n",
        "plt.show()"
      ],
      "execution_count": 9,
      "outputs": [
        {
          "output_type": "display_data",
          "data": {
            "image/png": "[encoded data removed]",
            "text/plain": [
              "<Figure size 432x288 with 1 Axes>"
            ]
          },
          "metadata": {
            "needs_background": "light"
          }
        }
      ]
    },
    {
      "cell_type": "code",
      "metadata": {
        "colab": {
          "base_uri": "https://localhost:8080/",
          "height": 265
        },
        "id": "4WjmSmOYseZ6",
        "outputId": "82ff1d95-6eba-4f4a-cc9e-faa2642ecce7"
      },
      "source": [
        "l2 = 1000\n",
        "w_map = np.linalg.solve((l2*np.eye(2) + X.T.dot(X)), X.T.dot(Y))\n",
        "Yhat_map = X.dot(w_map)\n",
        "plt.scatter(X['X1'], Y)\n",
        "plt.plot(X['X1'], Yhat_ml, label='maximum likelihood')\n",
        "plt.plot(X['X1'], Yhat_map, label='map')\n",
        "plt.legend()\n",
        "plt.show()"
      ],
      "execution_count": 21,
      "outputs": [
        {
          "output_type": "display_data",
          "data": {
            "image/png": "[encoded data removed]",
            "text/plain": [
              "<Figure size 432x288 with 1 Axes>"
            ]
          },
          "metadata": {
            "needs_background": "light"
          }
        }
      ]
    },
    {
      "cell_type": "code",
      "metadata": {
        "colab": {
          "base_uri": "https://localhost:8080/"
        },
        "id": "n5KjAP7D4t8i",
        "outputId": "f3d8531f-2dac-4561-d10d-5ad3506723f0"
      },
      "source": [
        "def get_r2(Y,Yhat):\n",
        "    # determine how good the model is by computing the r-squared\n",
        "    d1 = Y - Yhat\n",
        "    d2 = Y - Y.mean()\n",
        "    r2 = 1 - d1.dot(d1) / d2.dot(d2)\n",
        "    return r2\n",
        "\n",
        "print(\"r2 for maximum likelihood:\", get_r2(Y, Yhat_ml))\n",
        "print(\"r2 for map:\", get_r2(Y, Yhat_map))"
      ],
      "execution_count": 22,
      "outputs": [
        {
          "output_type": "stream",
          "name": "stdout",
          "text": [
            "r2 for maximum likelihood: 0.2677345690628192\n",
            "r2 for map: 0.1644493104972261\n"
          ]
        }
      ]
    },
    {
      "cell_type": "code",
      "metadata": {
        "id": "XAzk1RgV4u1K"
      },
      "source": [
        ""
      ],
      "execution_count": null,
      "outputs": []
    }
  ]
}