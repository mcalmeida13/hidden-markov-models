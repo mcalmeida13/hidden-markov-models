{
  "nbformat": 4,
  "nbformat_minor": 0,
  "metadata": {
    "colab": {
      "name": "systolic-blood-pression.ipynb",
      "provenance": [],
      "authorship_tag": "ABX9TyNMf9jxcvWWtWutrcWgCFXe",
      "include_colab_link": true
    },
    "kernelspec": {
      "name": "python3",
      "display_name": "Python 3"
    },
    "language_info": {
      "name": "python"
    }
  },
  "cells": [
    {
      "cell_type": "markdown",
      "metadata": {
        "id": "view-in-github",
        "colab_type": "text"
      },
      "source": [
        "<a href=\"https://colab.research.google.com/github/mcalmeida13/hidden-markov-models/blob/main/systolic_blood_pression.ipynb\" target=\"_parent\"><img src=\"https://colab.research.google.com/assets/colab-badge.svg\" alt=\"Open In Colab\"/></a>"
      ]
    },
    {
      "cell_type": "code",
      "metadata": {
        "id": "WGncUZTr7v7g"
      },
      "source": [
        "import numpy as np\n",
        "import pandas as pd\n",
        "import matplotlib.pyplot as plt"
      ],
      "execution_count": null,
      "outputs": []
    },
    {
      "cell_type": "markdown",
      "metadata": {
        "id": "OVAGIaGL8qHg"
      },
      "source": [
        "The data (X1, X2, X3) are for each patient.\n",
        "\n",
        "X1 = systolic blood pressure\n",
        "\n",
        "X2 = age in years\n",
        "\n",
        "X3 = weight in pounds"
      ]
    },
    {
      "cell_type": "code",
      "metadata": {
        "colab": {
          "base_uri": "https://localhost:8080/",
          "height": 221
        },
        "id": "TSRYLjiy79e4",
        "outputId": "8d8eedb5-c825-4d3d-fcd8-6140c8ea45d8"
      },
      "source": [
        "path ='https://github.com/mcalmeida13/hidden-markov-models/blob/main/mlr02.xls?raw=true'\n",
        "df = pd.read_excel(path)\n",
        "df.head()"
      ],
      "execution_count": null,
      "outputs": [
        {
          "output_type": "stream",
          "name": "stdout",
          "text": [
            "*** No CODEPAGE record, no encoding_override: will use 'ascii'\n"
          ]
        },
        {
          "output_type": "execute_result",
          "data": {
            "text/html": [
              "<div>\n",
              "<style scoped>\n",
              "    .dataframe tbody tr th:only-of-type {\n",
              "        vertical-align: middle;\n",
              "    }\n",
              "\n",
              "    .dataframe tbody tr th {\n",
              "        vertical-align: top;\n",
              "    }\n",
              "\n",
              "    .dataframe thead th {\n",
              "        text-align: right;\n",
              "    }\n",
              "</style>\n",
              "<table border=\"1\" class=\"dataframe\">\n",
              "  <thead>\n",
              "    <tr style=\"text-align: right;\">\n",
              "      <th></th>\n",
              "      <th>X1</th>\n",
              "      <th>X2</th>\n",
              "      <th>X3</th>\n",
              "    </tr>\n",
              "  </thead>\n",
              "  <tbody>\n",
              "    <tr>\n",
              "      <th>0</th>\n",
              "      <td>132</td>\n",
              "      <td>52</td>\n",
              "      <td>173</td>\n",
              "    </tr>\n",
              "    <tr>\n",
              "      <th>1</th>\n",
              "      <td>143</td>\n",
              "      <td>59</td>\n",
              "      <td>184</td>\n",
              "    </tr>\n",
              "    <tr>\n",
              "      <th>2</th>\n",
              "      <td>153</td>\n",
              "      <td>67</td>\n",
              "      <td>194</td>\n",
              "    </tr>\n",
              "    <tr>\n",
              "      <th>3</th>\n",
              "      <td>162</td>\n",
              "      <td>73</td>\n",
              "      <td>211</td>\n",
              "    </tr>\n",
              "    <tr>\n",
              "      <th>4</th>\n",
              "      <td>154</td>\n",
              "      <td>64</td>\n",
              "      <td>196</td>\n",
              "    </tr>\n",
              "  </tbody>\n",
              "</table>\n",
              "</div>"
            ],
            "text/plain": [
              "    X1  X2   X3\n",
              "0  132  52  173\n",
              "1  143  59  184\n",
              "2  153  67  194\n",
              "3  162  73  211\n",
              "4  154  64  196"
            ]
          },
          "metadata": {},
          "execution_count": 2
        }
      ]
    },
    {
      "cell_type": "code",
      "metadata": {
        "colab": {
          "base_uri": "https://localhost:8080/",
          "height": 269
        },
        "id": "XB0DPTMc8URC",
        "outputId": "85b3f208-a557-4cef-f0a8-ee4e26caf564"
      },
      "source": [
        "# Systolic blood pressure per age\n",
        "plt.scatter(df['X2'],df['X1'])\n",
        "plt.show()"
      ],
      "execution_count": null,
      "outputs": [
        {
          "output_type": "display_data",
          "data": {
            "image/png": "[encoded data removed]",
            "text/plain": [
              "<Figure size 432x288 with 1 Axes>"
            ]
          },
          "metadata": {
            "needs_background": "light"
          }
        }
      ]
    },
    {
      "cell_type": "code",
      "metadata": {
        "colab": {
          "base_uri": "https://localhost:8080/",
          "height": 269
        },
        "id": "Qr1lcYPO80wM",
        "outputId": "c2306e32-7a64-4df6-da90-bf2c47433dba"
      },
      "source": [
        "# Weight per age\n",
        "plt.scatter(df['X3'],df['X1'])\n",
        "plt.show()"
      ],
      "execution_count": null,
      "outputs": [
        {
          "output_type": "display_data",
          "data": {
            "image/png": "[encoded data removed]",
            "text/plain": [
              "<Figure size 432x288 with 1 Axes>"
            ]
          },
          "metadata": {
            "needs_background": "light"
          }
        }
      ]
    },
    {
      "cell_type": "code",
      "metadata": {
        "id": "qzUW24eT87Vk"
      },
      "source": [
        "df['X0'] = 1"
      ],
      "execution_count": null,
      "outputs": []
    },
    {
      "cell_type": "code",
      "metadata": {
        "id": "aTyNpDt39EIi"
      },
      "source": [
        "df_v2 = df[['X0','X1','X2','X3']]"
      ],
      "execution_count": null,
      "outputs": []
    },
    {
      "cell_type": "code",
      "metadata": {
        "id": "JpGjEww89JfQ"
      },
      "source": [
        "X = df_v2.drop('X1', axis =1)\n",
        "Y = df_v2['X1']"
      ],
      "execution_count": null,
      "outputs": []
    },
    {
      "cell_type": "code",
      "metadata": {
        "id": "9jA6CVEd9U87"
      },
      "source": [
        "X2_only =  df_v2[['X2','X0']]\n",
        "X3_only =  df_v2[['X3','X0']]"
      ],
      "execution_count": null,
      "outputs": []
    },
    {
      "cell_type": "code",
      "metadata": {
        "id": "fgEdA28b9gYN"
      },
      "source": [
        "def get_r2(X,Y):\n",
        "  w = np.linalg.solve(X.T.dot(X),X.T.dot(Y))\n",
        "  Yhat = X.dot(w)\n",
        "\n",
        "  # determine how good the model is by computing the r-squared\n",
        "  d1 = Y - Yhat\n",
        "  d2 = Y - Y.mean()\n",
        "  r2 = 1 - d1.dot(d1) / d2.dot(d2)\n",
        "  return r2"
      ],
      "execution_count": null,
      "outputs": []
    },
    {
      "cell_type": "code",
      "metadata": {
        "colab": {
          "base_uri": "https://localhost:8080/"
        },
        "id": "UeuAgMzV9wFG",
        "outputId": "ef85bf85-06be-41a5-a34e-36c110e0b57d"
      },
      "source": [
        "print(\"r2 for x2 only:\", get_r2(X2_only, Y))\n",
        "print(\"r2 for x3 only:\", get_r2(X3_only, Y))\n",
        "print(\"r2 for both:\", get_r2(X, Y))"
      ],
      "execution_count": null,
      "outputs": [
        {
          "output_type": "stream",
          "name": "stdout",
          "text": [
            "r2 for x2 only: 0.9578407208147353\n",
            "r2 for x3 only: 0.9419952085293064\n",
            "r2 for both: 0.976847104150209\n"
          ]
        }
      ]
    },
    {
      "cell_type": "code",
      "metadata": {
        "id": "0h8Dhyae9zuH"
      },
      "source": [
        ""
      ],
      "execution_count": null,
      "outputs": []
    }
  ]
}