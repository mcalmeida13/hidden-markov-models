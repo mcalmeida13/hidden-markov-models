{
  "nbformat": 4,
  "nbformat_minor": 0,
  "metadata": {
    "colab": {
      "name": "polynomial-regression",
      "provenance": [],
      "authorship_tag": "ABX9TyPDghJCiGLGTBM/9FdWjIuH",
      "include_colab_link": true
    },
    "kernelspec": {
      "name": "python3",
      "display_name": "Python 3"
    },
    "language_info": {
      "name": "python"
    }
  },
  "cells": [
    {
      "cell_type": "markdown",
      "metadata": {
        "id": "view-in-github",
        "colab_type": "text"
      },
      "source": [
        "<a href=\"https://colab.research.google.com/github/mcalmeida13/hidden-markov-models/blob/main/polynomial_regression.ipynb\" target=\"_parent\"><img src=\"https://colab.research.google.com/assets/colab-badge.svg\" alt=\"Open In Colab\"/></a>"
      ]
    },
    {
      "cell_type": "code",
      "metadata": {
        "id": "hp7Rwqfb1e0y"
      },
      "source": [
        "import numpy as np\n",
        "import pandas as pd\n",
        "import matplotlib.pyplot as plt"
      ],
      "execution_count": 1,
      "outputs": []
    },
    {
      "cell_type": "code",
      "metadata": {
        "colab": {
          "base_uri": "https://localhost:8080/",
          "height": 204
        },
        "id": "s0XcWKaE1nq5",
        "outputId": "1479201c-bc04-477b-fc39-7470767d87f4"
      },
      "source": [
        "path = 'https://raw.githubusercontent.com/lazyprogrammer/machine_learning_examples/master/linear_regression_class/data_poly.csv'\n",
        "df = pd.read_csv(path, names=['x_1','y'])\n",
        "df.head()"
      ],
      "execution_count": 2,
      "outputs": [
        {
          "output_type": "execute_result",
          "data": {
            "text/html": [
              "<div>\n",
              "<style scoped>\n",
              "    .dataframe tbody tr th:only-of-type {\n",
              "        vertical-align: middle;\n",
              "    }\n",
              "\n",
              "    .dataframe tbody tr th {\n",
              "        vertical-align: top;\n",
              "    }\n",
              "\n",
              "    .dataframe thead th {\n",
              "        text-align: right;\n",
              "    }\n",
              "</style>\n",
              "<table border=\"1\" class=\"dataframe\">\n",
              "  <thead>\n",
              "    <tr style=\"text-align: right;\">\n",
              "      <th></th>\n",
              "      <th>x_1</th>\n",
              "      <th>y</th>\n",
              "    </tr>\n",
              "  </thead>\n",
              "  <tbody>\n",
              "    <tr>\n",
              "      <th>0</th>\n",
              "      <td>76.700709</td>\n",
              "      <td>663.797276</td>\n",
              "    </tr>\n",
              "    <tr>\n",
              "      <th>1</th>\n",
              "      <td>95.273544</td>\n",
              "      <td>1014.362282</td>\n",
              "    </tr>\n",
              "    <tr>\n",
              "      <th>2</th>\n",
              "      <td>73.095723</td>\n",
              "      <td>618.938827</td>\n",
              "    </tr>\n",
              "    <tr>\n",
              "      <th>3</th>\n",
              "      <td>46.951635</td>\n",
              "      <td>288.012877</td>\n",
              "    </tr>\n",
              "    <tr>\n",
              "      <th>4</th>\n",
              "      <td>33.313748</td>\n",
              "      <td>144.977556</td>\n",
              "    </tr>\n",
              "  </tbody>\n",
              "</table>\n",
              "</div>"
            ],
            "text/plain": [
              "         x_1            y\n",
              "0  76.700709   663.797276\n",
              "1  95.273544  1014.362282\n",
              "2  73.095723   618.938827\n",
              "3  46.951635   288.012877\n",
              "4  33.313748   144.977556"
            ]
          },
          "metadata": {},
          "execution_count": 2
        }
      ]
    },
    {
      "cell_type": "code",
      "metadata": {
        "colab": {
          "base_uri": "https://localhost:8080/",
          "height": 204
        },
        "id": "YUfT-2iw4xRM",
        "outputId": "a8cf1b3b-28fd-4945-cbdc-efceca3dac1e"
      },
      "source": [
        "df['x_0'] = 1 #Bias term\n",
        "df['x_2'] = np.square(df['x_1'])\n",
        "df.head()"
      ],
      "execution_count": 12,
      "outputs": [
        {
          "output_type": "execute_result",
          "data": {
            "text/html": [
              "<div>\n",
              "<style scoped>\n",
              "    .dataframe tbody tr th:only-of-type {\n",
              "        vertical-align: middle;\n",
              "    }\n",
              "\n",
              "    .dataframe tbody tr th {\n",
              "        vertical-align: top;\n",
              "    }\n",
              "\n",
              "    .dataframe thead th {\n",
              "        text-align: right;\n",
              "    }\n",
              "</style>\n",
              "<table border=\"1\" class=\"dataframe\">\n",
              "  <thead>\n",
              "    <tr style=\"text-align: right;\">\n",
              "      <th></th>\n",
              "      <th>x_1</th>\n",
              "      <th>y</th>\n",
              "      <th>x_0</th>\n",
              "      <th>x_2</th>\n",
              "    </tr>\n",
              "  </thead>\n",
              "  <tbody>\n",
              "    <tr>\n",
              "      <th>0</th>\n",
              "      <td>76.700709</td>\n",
              "      <td>663.797276</td>\n",
              "      <td>1</td>\n",
              "      <td>5882.998700</td>\n",
              "    </tr>\n",
              "    <tr>\n",
              "      <th>1</th>\n",
              "      <td>95.273544</td>\n",
              "      <td>1014.362282</td>\n",
              "      <td>1</td>\n",
              "      <td>9077.048216</td>\n",
              "    </tr>\n",
              "    <tr>\n",
              "      <th>2</th>\n",
              "      <td>73.095723</td>\n",
              "      <td>618.938827</td>\n",
              "      <td>1</td>\n",
              "      <td>5342.984757</td>\n",
              "    </tr>\n",
              "    <tr>\n",
              "      <th>3</th>\n",
              "      <td>46.951635</td>\n",
              "      <td>288.012877</td>\n",
              "      <td>1</td>\n",
              "      <td>2204.456072</td>\n",
              "    </tr>\n",
              "    <tr>\n",
              "      <th>4</th>\n",
              "      <td>33.313748</td>\n",
              "      <td>144.977556</td>\n",
              "      <td>1</td>\n",
              "      <td>1109.805806</td>\n",
              "    </tr>\n",
              "  </tbody>\n",
              "</table>\n",
              "</div>"
            ],
            "text/plain": [
              "         x_1            y  x_0          x_2\n",
              "0  76.700709   663.797276    1  5882.998700\n",
              "1  95.273544  1014.362282    1  9077.048216\n",
              "2  73.095723   618.938827    1  5342.984757\n",
              "3  46.951635   288.012877    1  2204.456072\n",
              "4  33.313748   144.977556    1  1109.805806"
            ]
          },
          "metadata": {},
          "execution_count": 12
        }
      ]
    },
    {
      "cell_type": "code",
      "metadata": {
        "colab": {
          "base_uri": "https://localhost:8080/",
          "height": 204
        },
        "id": "7DwvMUUw5m18",
        "outputId": "ff96655f-827f-43f2-a464-05437f0c4e31"
      },
      "source": [
        "df_v2 = df[['x_0','x_1','x_2','y']]\n",
        "df_v2.head()"
      ],
      "execution_count": 24,
      "outputs": [
        {
          "output_type": "execute_result",
          "data": {
            "text/html": [
              "<div>\n",
              "<style scoped>\n",
              "    .dataframe tbody tr th:only-of-type {\n",
              "        vertical-align: middle;\n",
              "    }\n",
              "\n",
              "    .dataframe tbody tr th {\n",
              "        vertical-align: top;\n",
              "    }\n",
              "\n",
              "    .dataframe thead th {\n",
              "        text-align: right;\n",
              "    }\n",
              "</style>\n",
              "<table border=\"1\" class=\"dataframe\">\n",
              "  <thead>\n",
              "    <tr style=\"text-align: right;\">\n",
              "      <th></th>\n",
              "      <th>x_0</th>\n",
              "      <th>x_1</th>\n",
              "      <th>x_2</th>\n",
              "      <th>y</th>\n",
              "    </tr>\n",
              "  </thead>\n",
              "  <tbody>\n",
              "    <tr>\n",
              "      <th>0</th>\n",
              "      <td>1</td>\n",
              "      <td>76.700709</td>\n",
              "      <td>5882.998700</td>\n",
              "      <td>663.797276</td>\n",
              "    </tr>\n",
              "    <tr>\n",
              "      <th>1</th>\n",
              "      <td>1</td>\n",
              "      <td>95.273544</td>\n",
              "      <td>9077.048216</td>\n",
              "      <td>1014.362282</td>\n",
              "    </tr>\n",
              "    <tr>\n",
              "      <th>2</th>\n",
              "      <td>1</td>\n",
              "      <td>73.095723</td>\n",
              "      <td>5342.984757</td>\n",
              "      <td>618.938827</td>\n",
              "    </tr>\n",
              "    <tr>\n",
              "      <th>3</th>\n",
              "      <td>1</td>\n",
              "      <td>46.951635</td>\n",
              "      <td>2204.456072</td>\n",
              "      <td>288.012877</td>\n",
              "    </tr>\n",
              "    <tr>\n",
              "      <th>4</th>\n",
              "      <td>1</td>\n",
              "      <td>33.313748</td>\n",
              "      <td>1109.805806</td>\n",
              "      <td>144.977556</td>\n",
              "    </tr>\n",
              "  </tbody>\n",
              "</table>\n",
              "</div>"
            ],
            "text/plain": [
              "   x_0        x_1          x_2            y\n",
              "0    1  76.700709  5882.998700   663.797276\n",
              "1    1  95.273544  9077.048216  1014.362282\n",
              "2    1  73.095723  5342.984757   618.938827\n",
              "3    1  46.951635  2204.456072   288.012877\n",
              "4    1  33.313748  1109.805806   144.977556"
            ]
          },
          "metadata": {},
          "execution_count": 24
        }
      ]
    },
    {
      "cell_type": "code",
      "metadata": {
        "id": "nMahYkBF1zLy"
      },
      "source": [
        "X_1 = df_v2['x_1']\n",
        "Y = df_v2['y']"
      ],
      "execution_count": 25,
      "outputs": []
    },
    {
      "cell_type": "code",
      "metadata": {
        "colab": {
          "base_uri": "https://localhost:8080/",
          "height": 265
        },
        "id": "HtUaDcdZ182v",
        "outputId": "ef858640-b8a2-4e6d-a484-6ba3cddb2ec0"
      },
      "source": [
        "plt.scatter(X_1,Y)\n",
        "plt.show()"
      ],
      "execution_count": 26,
      "outputs": [
        {
          "output_type": "display_data",
          "data": {
            "image/png": "[encoded data removed]",
            "text/plain": [
              "<Figure size 432x288 with 1 Axes>"
            ]
          },
          "metadata": {
            "needs_background": "light"
          }
        }
      ]
    },
    {
      "cell_type": "markdown",
      "metadata": {
        "id": "iWfyV3ML2Zao"
      },
      "source": [
        "Y = AX\n",
        "\n",
        "(X^T X)w = X^T y\n",
        "\n",
        "\n",
        "\n"
      ]
    },
    {
      "cell_type": "code",
      "metadata": {
        "id": "rK2EIekG5T7J"
      },
      "source": [
        "X = df_v2.drop('y',axis=1)"
      ],
      "execution_count": 27,
      "outputs": []
    },
    {
      "cell_type": "code",
      "metadata": {
        "id": "jELtU-vQ2rOn"
      },
      "source": [
        "w = np.linalg.solve(np.dot(X.T,X),np.dot(X.T,Y))"
      ],
      "execution_count": 28,
      "outputs": []
    },
    {
      "cell_type": "markdown",
      "metadata": {
        "id": "I8aiTX9V4GzJ"
      },
      "source": [
        "y = a_0 + a_1 x + a_2 x^2"
      ]
    },
    {
      "cell_type": "code",
      "metadata": {
        "colab": {
          "base_uri": "https://localhost:8080/",
          "height": 281
        },
        "id": "eRZTdXmG4O8v",
        "outputId": "61e28ac0-bd70-450b-9d02-a70d3269c2d8"
      },
      "source": [
        "plt.scatter(X_1,Y)\n",
        "x_line = np.linspace(X['x_1'].min(),X['x_1'].max())\n",
        "y_line = w[0] + w[1]*x_line + w[2]*x_line*x_line\n",
        "plt.plot(x_line,y_line)\n",
        "plt.title(\"Our fitted quadratic\")\n",
        "plt.show()"
      ],
      "execution_count": 33,
      "outputs": [
        {
          "output_type": "display_data",
          "data": {
            "image/png": "[encoded data removed]",
            "text/plain": [
              "<Figure size 432x288 with 1 Axes>"
            ]
          },
          "metadata": {
            "needs_background": "light"
          }
        }
      ]
    },
    {
      "cell_type": "code",
      "metadata": {
        "id": "dPaHuzJmcCaa"
      },
      "source": [
        "Yhat = np.dot(X,w)"
      ],
      "execution_count": 34,
      "outputs": []
    },
    {
      "cell_type": "code",
      "metadata": {
        "colab": {
          "base_uri": "https://localhost:8080/"
        },
        "id": "P3V1qfURdJ1A",
        "outputId": "e7b72118-4a68-451a-9f9b-fe1c46938ad6"
      },
      "source": [
        "d1 = Y - Yhat\n",
        "d2 = Y- Y.mean()\n",
        "r2 = 1 -d1.dot(d1)/d2.dot(d2)\n",
        "print(\"the r-squared is:\", r2)"
      ],
      "execution_count": 35,
      "outputs": [
        {
          "output_type": "stream",
          "name": "stdout",
          "text": [
            "the r-squared is: 0.9991412296366858\n"
          ]
        }
      ]
    },
    {
      "cell_type": "code",
      "metadata": {
        "id": "8Fb-6nmvdtQo"
      },
      "source": [
        ""
      ],
      "execution_count": null,
      "outputs": []
    }
  ]
}