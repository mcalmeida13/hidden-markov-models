{
  "nbformat": 4,
  "nbformat_minor": 0,
  "metadata": {
    "colab": {
      "name": "l1-regularization",
      "provenance": [],
      "authorship_tag": "ABX9TyMnVKGTwix9I+ZFfHVXdaHv",
      "include_colab_link": true
    },
    "kernelspec": {
      "name": "python3",
      "display_name": "Python 3"
    },
    "language_info": {
      "name": "python"
    }
  },
  "cells": [
    {
      "cell_type": "markdown",
      "metadata": {
        "id": "view-in-github",
        "colab_type": "text"
      },
      "source": [
        "<a href=\"https://colab.research.google.com/github/mcalmeida13/math-machine-learning/blob/main/linear-regression/l1_regularization.ipynb\" target=\"_parent\"><img src=\"https://colab.research.google.com/assets/colab-badge.svg\" alt=\"Open In Colab\"/></a>"
      ]
    },
    {
      "cell_type": "code",
      "metadata": {
        "id": "aBs_zpq-aqrs"
      },
      "source": [
        "import matplotlib.pyplot as plt\n",
        "import numpy as np\n",
        "import pandas as pd"
      ],
      "execution_count": 1,
      "outputs": []
    },
    {
      "cell_type": "markdown",
      "metadata": {
        "id": "aeKIbiOlbV9i"
      },
      "source": [
        "Which features have highest impact on the target?"
      ]
    },
    {
      "cell_type": "code",
      "metadata": {
        "id": "p-TnW6dQa2mt"
      },
      "source": [
        "#  Number of data points\n",
        "N = 50\n",
        "\n",
        "# Dimensionality (Number of features is too large, it is a fat matrix or dataset)\n",
        "D = 50"
      ],
      "execution_count": 2,
      "outputs": []
    },
    {
      "cell_type": "markdown",
      "metadata": {
        "id": "65Gh8YBya9aM"
      },
      "source": [
        "Means you have few data and tons of features"
      ]
    },
    {
      "cell_type": "code",
      "metadata": {
        "id": "NaxdFeiCbBUq"
      },
      "source": [
        "# uniformly distributed numbers between -5, +5\n",
        "X = (np.random.random((N, D)) - 0.5)*10"
      ],
      "execution_count": 5,
      "outputs": []
    },
    {
      "cell_type": "code",
      "metadata": {
        "colab": {
          "base_uri": "https://localhost:8080/"
        },
        "id": "qMW8qs0abPIU",
        "outputId": "514b0c46-1c59-448e-d9d1-53f06070002f"
      },
      "source": [
        "# true weights - only the first 3 dimensions of X affect Y\n",
        "true_w = np.array([1, 0.5, -0.5] + [0]*(D - 3))\n",
        "true_w"
      ],
      "execution_count": 7,
      "outputs": [
        {
          "output_type": "execute_result",
          "data": {
            "text/plain": [
              "array([ 1. ,  0.5, -0.5,  0. ,  0. ,  0. ,  0. ,  0. ,  0. ,  0. ,  0. ,\n",
              "        0. ,  0. ,  0. ,  0. ,  0. ,  0. ,  0. ,  0. ,  0. ,  0. ,  0. ,\n",
              "        0. ,  0. ,  0. ,  0. ,  0. ,  0. ,  0. ,  0. ,  0. ,  0. ,  0. ,\n",
              "        0. ,  0. ,  0. ,  0. ,  0. ,  0. ,  0. ,  0. ,  0. ,  0. ,  0. ,\n",
              "        0. ,  0. ,  0. ,  0. ,  0. ,  0. ])"
            ]
          },
          "metadata": {},
          "execution_count": 7
        }
      ]
    },
    {
      "cell_type": "code",
      "metadata": {
        "colab": {
          "base_uri": "https://localhost:8080/"
        },
        "id": "f6gkzGTxbGjm",
        "outputId": "0cd8059c-f70b-40a4-fc20-a1ca513228ed"
      },
      "source": [
        "# generate Y - add noise\n",
        "Y = X.dot(true_w) + np.random.randn(N)*0.5\n",
        "Y"
      ],
      "execution_count": 9,
      "outputs": [
        {
          "output_type": "execute_result",
          "data": {
            "text/plain": [
              "array([-3.3406525 ,  2.38741165,  0.3852915 ,  7.01098436, -0.07947238,\n",
              "        0.88694543, -2.72982736,  3.25475965, -6.7685663 ,  3.20984681,\n",
              "        0.09557647,  1.06559543, -0.82042386, -7.22360267, -3.89115211,\n",
              "        2.76786108, -3.17659563,  0.17407191,  3.61355921, -3.75930524,\n",
              "       -7.13905949, -2.66216705,  2.6816872 , -1.30878638,  7.58490298,\n",
              "       -3.40584485,  3.68939132, -2.39860777, -2.06075385,  1.68333903,\n",
              "        3.82279173,  0.8613941 , -1.21197211,  2.79603465, -1.41651286,\n",
              "        2.33442906, -0.27363616, -2.51671551, -0.81384486, -3.82096489,\n",
              "        2.01309448,  5.53776981,  5.49507598,  4.09740266,  3.18999728,\n",
              "       -3.18364165, -1.20858532,  7.85814901,  2.26785448,  2.76157264])"
            ]
          },
          "metadata": {},
          "execution_count": 9
        }
      ]
    },
    {
      "cell_type": "code",
      "metadata": {
        "id": "xs8_NMZLbLFy"
      },
      "source": [
        "# perform gradient descent to find w\n",
        "costs = [] # keep track of squared error cost\n",
        "w = np.random.randn(D) / np.sqrt(D) # randomly initialize w\n",
        "learning_rate = 0.001\n",
        "l1 = 10.0 # Also try 5.0, 2.0, 1.0, 0.1 - what effect does it have on w?\n",
        "\n",
        "for t in range(500):\n",
        "  # update w\n",
        "  Yhat = X.dot(w)\n",
        "  delta = Yhat - Y\n",
        "  w -= learning_rate*(X.T.dot(delta) + l1*np.sign(w))\n",
        "\n",
        "  # find and store the cost\n",
        "  mse = delta.dot(delta) / N\n",
        "  costs.append(mse)"
      ],
      "execution_count": 10,
      "outputs": []
    },
    {
      "cell_type": "code",
      "metadata": {
        "colab": {
          "base_uri": "https://localhost:8080/"
        },
        "id": "_rRuf3JtbsSM",
        "outputId": "fa1d67d2-aa27-431a-8e70-1c02a3ad669f"
      },
      "source": [
        "print(\"final w:\", np.around(w, decimals=3))"
      ],
      "execution_count": 17,
      "outputs": [
        {
          "output_type": "stream",
          "name": "stdout",
          "text": [
            "final w: [ 0.932  0.489 -0.437  0.011 -0.008 -0.015 -0.025  0.024  0.01  -0.004\n",
            "  0.016  0.036  0.028  0.031  0.003  0.035  0.01   0.006 -0.001 -0.01\n",
            "  0.026  0.01   0.004 -0.001  0.007 -0.037 -0.007 -0.009  0.013 -0.009\n",
            " -0.001 -0.023  0.019 -0.007 -0.016  0.034 -0.003  0.009 -0.003  0.017\n",
            " -0.002  0.028 -0.001 -0.043 -0.009  0.02  -0.002 -0.02   0.001  0.001]\n"
          ]
        }
      ]
    },
    {
      "cell_type": "code",
      "metadata": {
        "colab": {
          "base_uri": "https://localhost:8080/",
          "height": 265
        },
        "id": "yb4ozdhHbut9",
        "outputId": "ec5fa47a-1fd6-4ad6-8cf6-fa0fb9141bc8"
      },
      "source": [
        "# plot the costs\n",
        "plt.plot(costs)\n",
        "plt.show()"
      ],
      "execution_count": 12,
      "outputs": [
        {
          "output_type": "display_data",
          "data": {
            "image/png": "[encoded data removed]",
            "text/plain": [
              "<Figure size 432x288 with 1 Axes>"
            ]
          },
          "metadata": {
            "needs_background": "light"
          }
        }
      ]
    },
    {
      "cell_type": "code",
      "metadata": {
        "colab": {
          "base_uri": "https://localhost:8080/",
          "height": 265
        },
        "id": "TQnxZpm6bwod",
        "outputId": "02d810bf-f89c-4621-d9ae-ca98b721c6d0"
      },
      "source": [
        "# plot our w vs true w\n",
        "plt.plot(true_w, label='true w')\n",
        "plt.plot(w, label='w_map')\n",
        "plt.legend()\n",
        "plt.show()"
      ],
      "execution_count": 13,
      "outputs": [
        {
          "output_type": "display_data",
          "data": {
            "image/png": "[encoded data removed]",
            "text/plain": [
              "<Figure size 432x288 with 1 Axes>"
            ]
          },
          "metadata": {
            "needs_background": "light"
          }
        }
      ]
    },
    {
      "cell_type": "markdown",
      "metadata": {
        "id": "kKTjfcuvbyfh"
      },
      "source": [
        "# Comments about L1 and L2 regularization\n",
        "\n",
        "**Similarities:**\n",
        "  - Both help you prevent overffiting\n",
        "  - L1: choose the most important features\n",
        "  - L2: deal well with outliars, making the assertion that none of the weight are extremely large\n",
        "\n",
        "**Differences**\n",
        "- L1: deals with dataset with small number of data and large number of features. Encourages a sparse solution\n",
        "- L2: deals with data with outliars. Encourages small weights\n"
      ]
    },
    {
      "cell_type": "code",
      "metadata": {
        "id": "iAAl9or3d8Ic"
      },
      "source": [
        ""
      ],
      "execution_count": null,
      "outputs": []
    }
  ]
}