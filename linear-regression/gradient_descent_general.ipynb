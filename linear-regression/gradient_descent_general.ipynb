{
  "nbformat": 4,
  "nbformat_minor": 0,
  "metadata": {
    "colab": {
      "name": "gradient-descent-general",
      "provenance": [],
      "authorship_tag": "ABX9TyOM2C1Ktkm1soj1ZAwxZ4cm",
      "include_colab_link": true
    },
    "kernelspec": {
      "name": "python3",
      "display_name": "Python 3"
    },
    "language_info": {
      "name": "python"
    }
  },
  "cells": [
    {
      "cell_type": "markdown",
      "metadata": {
        "id": "view-in-github",
        "colab_type": "text"
      },
      "source": [
        "<a href=\"https://colab.research.google.com/github/mcalmeida13/math-machine-learning/blob/main/linear-regression/gradient_descent_general.ipynb\" target=\"_parent\"><img src=\"https://colab.research.google.com/assets/colab-badge.svg\" alt=\"Open In Colab\"/></a>"
      ]
    },
    {
      "cell_type": "code",
      "metadata": {
        "id": "dXtoCZI678P8"
      },
      "source": [
        "import matplotlib.pyplot as plt\n",
        "import numpy as np\n",
        "import pandas as pd"
      ],
      "execution_count": 1,
      "outputs": []
    },
    {
      "cell_type": "code",
      "metadata": {
        "colab": {
          "base_uri": "https://localhost:8080/"
        },
        "id": "KGlXEmbJ8A4h",
        "outputId": "71098830-fb7a-4cbe-8d95-10ca5d45f055"
      },
      "source": [
        "#Exemplo simples\n",
        "\n",
        "\n",
        "\n",
        "#Initial condition\n",
        "w =20.0\n",
        "\n",
        "J = np.power(w,2)\n",
        "\n",
        "# Learning rate\n",
        "n = 0.1\n",
        "\n",
        "for i in range(40):\n",
        "  print(f\"Iteração {i+1}: \", (w) )\n",
        "  # print(J)\n",
        "  J = np.power(w,2)\n",
        "  w -= n*2*w"
      ],
      "execution_count": 10,
      "outputs": [
        {
          "output_type": "stream",
          "name": "stdout",
          "text": [
            "Iteração 1:  20.0\n",
            "Iteração 2:  16.0\n",
            "Iteração 3:  12.8\n",
            "Iteração 4:  10.24\n",
            "Iteração 5:  8.192\n",
            "Iteração 6:  6.5536\n",
            "Iteração 7:  5.24288\n",
            "Iteração 8:  4.194304000000001\n",
            "Iteração 9:  3.3554432000000007\n",
            "Iteração 10:  2.6843545600000005\n",
            "Iteração 11:  2.1474836480000006\n",
            "Iteração 12:  1.7179869184000005\n",
            "Iteração 13:  1.3743895347200004\n",
            "Iteração 14:  1.0995116277760002\n",
            "Iteração 15:  0.8796093022208001\n",
            "Iteração 16:  0.7036874417766401\n",
            "Iteração 17:  0.562949953421312\n",
            "Iteração 18:  0.45035996273704965\n",
            "Iteração 19:  0.3602879701896397\n",
            "Iteração 20:  0.28823037615171176\n",
            "Iteração 21:  0.23058430092136942\n",
            "Iteração 22:  0.18446744073709553\n",
            "Iteração 23:  0.14757395258967643\n",
            "Iteração 24:  0.11805916207174114\n",
            "Iteração 25:  0.09444732965739291\n",
            "Iteração 26:  0.07555786372591433\n",
            "Iteração 27:  0.06044629098073147\n",
            "Iteração 28:  0.048357032784585176\n",
            "Iteração 29:  0.03868562622766814\n",
            "Iteração 30:  0.030948500982134513\n",
            "Iteração 31:  0.02475880078570761\n",
            "Iteração 32:  0.01980704062856609\n",
            "Iteração 33:  0.015845632502852872\n",
            "Iteração 34:  0.012676506002282298\n",
            "Iteração 35:  0.01014120480182584\n",
            "Iteração 36:  0.008112963841460671\n",
            "Iteração 37:  0.006490371073168537\n",
            "Iteração 38:  0.00519229685853483\n",
            "Iteração 39:  0.004153837486827864\n",
            "Iteração 40:  0.0033230699894622913\n"
          ]
        }
      ]
    },
    {
      "cell_type": "code",
      "metadata": {
        "colab": {
          "base_uri": "https://localhost:8080/"
        },
        "id": "f8D33Gpf8rr2",
        "outputId": "1503d5fb-a91b-4627-fa87-43474723cccf"
      },
      "source": [
        "#Initial condition\n",
        "x1 = 20\n",
        "# y = 10\n",
        "\n",
        "lr=0.1\n",
        "\n",
        "\n",
        "def J(x1):\n",
        "  return x1**2\n",
        "\n",
        "def dJ(x1):\n",
        "  return 2*x1\n",
        "\n",
        "for i in range(30):\n",
        "  print(x1)\n",
        "  J(x1)\n",
        "  x1 -= lr * dJ(x1)"
      ],
      "execution_count": 12,
      "outputs": [
        {
          "output_type": "stream",
          "name": "stdout",
          "text": [
            "20\n",
            "16.0\n",
            "12.8\n",
            "10.24\n",
            "8.192\n",
            "6.5536\n",
            "5.24288\n",
            "4.194304000000001\n",
            "3.3554432000000007\n",
            "2.6843545600000005\n",
            "2.1474836480000006\n",
            "1.7179869184000005\n",
            "1.3743895347200004\n",
            "1.0995116277760002\n",
            "0.8796093022208001\n",
            "0.7036874417766401\n",
            "0.562949953421312\n",
            "0.45035996273704965\n",
            "0.3602879701896397\n",
            "0.28823037615171176\n",
            "0.23058430092136942\n",
            "0.18446744073709553\n",
            "0.14757395258967643\n",
            "0.11805916207174114\n",
            "0.09444732965739291\n",
            "0.07555786372591433\n",
            "0.06044629098073147\n",
            "0.048357032784585176\n",
            "0.03868562622766814\n",
            "0.030948500982134513\n"
          ]
        }
      ]
    },
    {
      "cell_type": "code",
      "metadata": {
        "id": "2NuTLfln-Xf-",
        "colab": {
          "base_uri": "https://localhost:8080/",
          "height": 283
        },
        "outputId": "49fd3cfc-2126-43df-ad1d-13392ea65e9e"
      },
      "source": [
        "#Initial condition\n",
        "x1 = 5\n",
        "x2 = -5\n",
        "\n",
        "lr=0.01\n",
        "\n",
        "\n",
        "def J(x1,x2):\n",
        "  return x1**2 + x2**4\n",
        "\n",
        "def g1(x1):\n",
        "  return 2*x1\n",
        "\n",
        "def g1(x2):\n",
        "  return 4*x2**3\n",
        "\n",
        "values = []\n",
        "for i in range(10):\n",
        "  values.append(J(x1,x2))\n",
        "  x1 -= lr * g1(x1)\n",
        "  x2 -= lr * g1(x2)\n",
        "\n",
        "values.append(J(x1,x2))\n",
        "\n",
        "print(x1, x2)\n",
        "plt.plot(values)\n",
        "plt.show()"
      ],
      "execution_count": 19,
      "outputs": [
        {
          "output_type": "stream",
          "name": "stdout",
          "text": [
            "0.0 0.0\n"
          ]
        },
        {
          "output_type": "display_data",
          "data": {
            "image/png": "[encoded data removed]",
            "text/plain": [
              "<Figure size 432x288 with 1 Axes>"
            ]
          },
          "metadata": {
            "needs_background": "light"
          }
        }
      ]
    },
    {
      "cell_type": "code",
      "metadata": {
        "id": "m4DcySmp--3t"
      },
      "source": [
        ""
      ],
      "execution_count": null,
      "outputs": []
    }
  ]
}