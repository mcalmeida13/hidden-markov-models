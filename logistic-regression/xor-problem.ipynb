{
  "nbformat": 4,
  "nbformat_minor": 0,
  "metadata": {
    "colab": {
      "name": "xor-problem.ipynb",
      "provenance": [],
      "authorship_tag": "ABX9TyMTGjvtR0KbC24/EmKT1Rh4",
      "include_colab_link": true
    },
    "kernelspec": {
      "name": "python3",
      "display_name": "Python 3"
    },
    "language_info": {
      "name": "python"
    }
  },
  "cells": [
    {
      "cell_type": "markdown",
      "metadata": {
        "id": "view-in-github",
        "colab_type": "text"
      },
      "source": [
        "<a href=\"https://colab.research.google.com/github/mcalmeida13/math-machine-learning/blob/main/logistic-regression/xor-problem.ipynb\" target=\"_parent\"><img src=\"https://colab.research.google.com/assets/colab-badge.svg\" alt=\"Open In Colab\"/></a>"
      ]
    },
    {
      "cell_type": "code",
      "metadata": {
        "id": "-M3DijA8tSxz"
      },
      "source": [
        "import numpy as np\n",
        "import matplotlib.pyplot as plt"
      ],
      "execution_count": 1,
      "outputs": []
    },
    {
      "cell_type": "markdown",
      "metadata": {
        "id": "2Md97w_hwIXH"
      },
      "source": [
        "References\n",
        "https://dev.to/jbahire/demystifying-the-xor-problem-1blk"
      ]
    },
    {
      "cell_type": "code",
      "metadata": {
        "id": "XaDmmvaLv7af"
      },
      "source": [
        "N = 4\n",
        "D = 2"
      ],
      "execution_count": 2,
      "outputs": []
    },
    {
      "cell_type": "code",
      "metadata": {
        "id": "KxCFCynSv38p"
      },
      "source": [
        "# XOR\n",
        "X = np.array([\n",
        "    [0, 0],\n",
        "    [0, 1],\n",
        "    [1, 0],\n",
        "    [1, 1],\n",
        "])"
      ],
      "execution_count": 3,
      "outputs": []
    },
    {
      "cell_type": "code",
      "metadata": {
        "id": "lAqDSP7vwY3L"
      },
      "source": [
        "T = np.array([0, 1, 1, 0])"
      ],
      "execution_count": 4,
      "outputs": []
    },
    {
      "cell_type": "code",
      "metadata": {
        "colab": {
          "base_uri": "https://localhost:8080/",
          "height": 265
        },
        "id": "JRd58uqiwmyX",
        "outputId": "0889499a-6843-4fb9-b98c-2585947ebfbb"
      },
      "source": [
        "plt.scatter(X[:,0],X[:,1],c=T)\n",
        "plt.show()"
      ],
      "execution_count": 6,
      "outputs": [
        {
          "output_type": "display_data",
          "data": {
            "image/png": "[encoded data removed]",
            "text/plain": [
              "<Figure size 432x288 with 1 Axes>"
            ]
          },
          "metadata": {
            "needs_background": "light"
          }
        }
      ]
    },
    {
      "cell_type": "code",
      "metadata": {
        "id": "5CichYCXwbmh"
      },
      "source": [
        "ones = np.ones((N, 1))"
      ],
      "execution_count": 7,
      "outputs": []
    },
    {
      "cell_type": "code",
      "metadata": {
        "id": "UFchf7lJwjGi"
      },
      "source": [
        "# Let's see the problem in a 3d perspective\n",
        "# with this trick, our problem is linearly separable\n",
        "# add a column of xy = x*y\n",
        "xy = (X[:,0] * X[:,1]).reshape(N, 1)\n",
        "Xb = np.concatenate((ones, xy, X), axis=1)"
      ],
      "execution_count": 20,
      "outputs": []
    },
    {
      "cell_type": "code",
      "metadata": {
        "id": "YQwI18zxxTLq"
      },
      "source": [
        "# randomly initialize the weights\n",
        "w = np.random.randn(D + 2)\n",
        "\n",
        "# calculate the model output\n",
        "z = Xb.dot(w)"
      ],
      "execution_count": 21,
      "outputs": []
    },
    {
      "cell_type": "code",
      "metadata": {
        "id": "LKYoQ-gyxVyg"
      },
      "source": [
        "def sigmoid(z):\n",
        "    return 1/(1 + np.exp(-z))"
      ],
      "execution_count": 22,
      "outputs": []
    },
    {
      "cell_type": "code",
      "metadata": {
        "id": "8lRQJWJ1xXJr"
      },
      "source": [
        "Y = sigmoid(z)"
      ],
      "execution_count": 23,
      "outputs": []
    },
    {
      "cell_type": "code",
      "metadata": {
        "colab": {
          "base_uri": "https://localhost:8080/"
        },
        "id": "Z_sMnVG9x7iZ",
        "outputId": "033bc189-0ce3-4e0a-b927-d37c4944bafe"
      },
      "source": [
        "Y"
      ],
      "execution_count": 24,
      "outputs": [
        {
          "output_type": "execute_result",
          "data": {
            "text/plain": [
              "array([0.7282953 , 0.86007152, 0.63430354, 0.85123296])"
            ]
          },
          "metadata": {},
          "execution_count": 24
        }
      ]
    },
    {
      "cell_type": "code",
      "metadata": {
        "id": "uXM1P3CZxYW9"
      },
      "source": [
        "# calculate the cross-entropy error\n",
        "def cross_entropy(T, Y):\n",
        "    E = 0\n",
        "    for i in range(len(T)):\n",
        "        if T[i] == 1:\n",
        "            E -= np.log(Y[i])\n",
        "        else:\n",
        "            E -= np.log(1 - Y[i])\n",
        "    return E"
      ],
      "execution_count": 25,
      "outputs": []
    },
    {
      "cell_type": "code",
      "metadata": {
        "colab": {
          "base_uri": "https://localhost:8080/"
        },
        "id": "YsiXRLUKxhbn",
        "outputId": "a19e4e67-813d-43c2-a06d-2c89e80d5039"
      },
      "source": [
        "# let's do gradient descent 100 times\n",
        "learning_rate = 0.01\n",
        "error = []\n",
        "for i in range(10000):\n",
        "    e = cross_entropy(T, Y)\n",
        "    error.append(e)\n",
        "    if i % 1000 == 0:\n",
        "        print(e)\n",
        "\n",
        "    # gradient descent weight udpate with regularization\n",
        "    w += learning_rate * ( Xb.T.dot(T - Y) - 0.01*w )\n",
        "\n",
        "    # recalculate Y\n",
        "    Y = sigmoid(Xb.dot(w))"
      ],
      "execution_count": 26,
      "outputs": [
        {
          "output_type": "stream",
          "name": "stdout",
          "text": [
            "3.814380551610918\n",
            "1.7120013853748746\n",
            "1.2332180849479901\n",
            "0.9792153316569614\n",
            "0.8305630819338894\n",
            "0.7371040109713743\n",
            "0.6752296008379712\n",
            "0.632709304548285\n",
            "0.6026848536796656\n",
            "0.5810563689107275\n"
          ]
        }
      ]
    },
    {
      "cell_type": "code",
      "metadata": {
        "colab": {
          "base_uri": "https://localhost:8080/",
          "height": 281
        },
        "id": "cAazxPhjxqX-",
        "outputId": "b53c8974-b8fc-4ff5-dad1-a6d55099975d"
      },
      "source": [
        "plt.plot(error)\n",
        "plt.title(\"Cross-entropy per iteration\")\n",
        "plt.show()"
      ],
      "execution_count": 27,
      "outputs": [
        {
          "output_type": "display_data",
          "data": {
            "image/png": "[encoded data removed]",
            "text/plain": [
              "<Figure size 432x288 with 1 Axes>"
            ]
          },
          "metadata": {
            "needs_background": "light"
          }
        }
      ]
    },
    {
      "cell_type": "code",
      "metadata": {
        "colab": {
          "base_uri": "https://localhost:8080/"
        },
        "id": "yRuRq9NlyFkQ",
        "outputId": "1c7c0222-eaac-44f7-8e86-9e4d0691e2db"
      },
      "source": [
        "print(\"Final w:\", w)\n",
        "print(\"Final classification rate:\", 1 - np.abs(T - np.round(Y)).sum() / N)"
      ],
      "execution_count": 28,
      "outputs": [
        {
          "output_type": "stream",
          "name": "stdout",
          "text": [
            "Final w: [-1.49003514 -7.70103894  3.4208823   3.42088243]\n",
            "Final classification rate: 1.0\n"
          ]
        }
      ]
    },
    {
      "cell_type": "code",
      "metadata": {
        "id": "HVcMUEMXyHMQ"
      },
      "source": [
        ""
      ],
      "execution_count": null,
      "outputs": []
    }
  ]
}