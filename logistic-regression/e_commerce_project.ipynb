{
  "nbformat": 4,
  "nbformat_minor": 0,
  "metadata": {
    "colab": {
      "name": "e-commerce-project.ipynb",
      "provenance": [],
      "authorship_tag": "ABX9TyMOEHbeFouZbp5Fx6hoPgCd",
      "include_colab_link": true
    },
    "kernelspec": {
      "name": "python3",
      "display_name": "Python 3"
    },
    "language_info": {
      "name": "python"
    }
  },
  "cells": [
    {
      "cell_type": "markdown",
      "metadata": {
        "id": "view-in-github",
        "colab_type": "text"
      },
      "source": [
        "<a href=\"https://colab.research.google.com/github/mcalmeida13/math-machine-learning/blob/main/logistic-regression/e_commerce_project.ipynb\" target=\"_parent\"><img src=\"https://colab.research.google.com/assets/colab-badge.svg\" alt=\"Open In Colab\"/></a>"
      ]
    },
    {
      "cell_type": "code",
      "metadata": {
        "id": "irY7dGIBzkGF"
      },
      "source": [
        "import numpy as np\n",
        "import pandas as pd\n",
        "from sklearn.utils import shuffle\n",
        "import matplotlib.pyplot as plt"
      ],
      "execution_count": 1,
      "outputs": []
    },
    {
      "cell_type": "code",
      "metadata": {
        "colab": {
          "base_uri": "https://localhost:8080/",
          "height": 224
        },
        "id": "JHA1AT4R0BHf",
        "outputId": "a03f1d26-71e8-4e3b-ad5a-e7febbd84730"
      },
      "source": [
        "path ='https://raw.githubusercontent.com/lazyprogrammer/machine_learning_examples/master/ann_logistic_extra/ecommerce_data.csv'\n",
        "df = pd.read_csv(path)\n",
        "df.head()"
      ],
      "execution_count": 2,
      "outputs": [
        {
          "output_type": "execute_result",
          "data": {
            "text/html": [
              "<div>\n",
              "<style scoped>\n",
              "    .dataframe tbody tr th:only-of-type {\n",
              "        vertical-align: middle;\n",
              "    }\n",
              "\n",
              "    .dataframe tbody tr th {\n",
              "        vertical-align: top;\n",
              "    }\n",
              "\n",
              "    .dataframe thead th {\n",
              "        text-align: right;\n",
              "    }\n",
              "</style>\n",
              "<table border=\"1\" class=\"dataframe\">\n",
              "  <thead>\n",
              "    <tr style=\"text-align: right;\">\n",
              "      <th></th>\n",
              "      <th>is_mobile</th>\n",
              "      <th>n_products_viewed</th>\n",
              "      <th>visit_duration</th>\n",
              "      <th>is_returning_visitor</th>\n",
              "      <th>time_of_day</th>\n",
              "      <th>user_action</th>\n",
              "    </tr>\n",
              "  </thead>\n",
              "  <tbody>\n",
              "    <tr>\n",
              "      <th>0</th>\n",
              "      <td>1</td>\n",
              "      <td>0</td>\n",
              "      <td>0.657510</td>\n",
              "      <td>0</td>\n",
              "      <td>3</td>\n",
              "      <td>0</td>\n",
              "    </tr>\n",
              "    <tr>\n",
              "      <th>1</th>\n",
              "      <td>1</td>\n",
              "      <td>1</td>\n",
              "      <td>0.568571</td>\n",
              "      <td>0</td>\n",
              "      <td>2</td>\n",
              "      <td>1</td>\n",
              "    </tr>\n",
              "    <tr>\n",
              "      <th>2</th>\n",
              "      <td>1</td>\n",
              "      <td>0</td>\n",
              "      <td>0.042246</td>\n",
              "      <td>1</td>\n",
              "      <td>1</td>\n",
              "      <td>0</td>\n",
              "    </tr>\n",
              "    <tr>\n",
              "      <th>3</th>\n",
              "      <td>1</td>\n",
              "      <td>1</td>\n",
              "      <td>1.659793</td>\n",
              "      <td>1</td>\n",
              "      <td>1</td>\n",
              "      <td>2</td>\n",
              "    </tr>\n",
              "    <tr>\n",
              "      <th>4</th>\n",
              "      <td>0</td>\n",
              "      <td>1</td>\n",
              "      <td>2.014745</td>\n",
              "      <td>1</td>\n",
              "      <td>1</td>\n",
              "      <td>2</td>\n",
              "    </tr>\n",
              "  </tbody>\n",
              "</table>\n",
              "</div>"
            ],
            "text/plain": [
              "   is_mobile  n_products_viewed  ...  time_of_day  user_action\n",
              "0          1                  0  ...            3            0\n",
              "1          1                  1  ...            2            1\n",
              "2          1                  0  ...            1            0\n",
              "3          1                  1  ...            1            2\n",
              "4          0                  1  ...            1            2\n",
              "\n",
              "[5 rows x 6 columns]"
            ]
          },
          "metadata": {},
          "execution_count": 2
        }
      ]
    },
    {
      "cell_type": "code",
      "metadata": {
        "id": "VCij1luS050U"
      },
      "source": [
        "df = df.sample(frac=1).reset_index(drop=True)"
      ],
      "execution_count": 3,
      "outputs": []
    },
    {
      "cell_type": "code",
      "metadata": {
        "colab": {
          "base_uri": "https://localhost:8080/",
          "height": 224
        },
        "id": "CldRwHvx33vh",
        "outputId": "822e6420-acb4-438e-de34-809c72e13939"
      },
      "source": [
        "df.head()"
      ],
      "execution_count": 4,
      "outputs": [
        {
          "output_type": "execute_result",
          "data": {
            "text/html": [
              "<div>\n",
              "<style scoped>\n",
              "    .dataframe tbody tr th:only-of-type {\n",
              "        vertical-align: middle;\n",
              "    }\n",
              "\n",
              "    .dataframe tbody tr th {\n",
              "        vertical-align: top;\n",
              "    }\n",
              "\n",
              "    .dataframe thead th {\n",
              "        text-align: right;\n",
              "    }\n",
              "</style>\n",
              "<table border=\"1\" class=\"dataframe\">\n",
              "  <thead>\n",
              "    <tr style=\"text-align: right;\">\n",
              "      <th></th>\n",
              "      <th>is_mobile</th>\n",
              "      <th>n_products_viewed</th>\n",
              "      <th>visit_duration</th>\n",
              "      <th>is_returning_visitor</th>\n",
              "      <th>time_of_day</th>\n",
              "      <th>user_action</th>\n",
              "    </tr>\n",
              "  </thead>\n",
              "  <tbody>\n",
              "    <tr>\n",
              "      <th>0</th>\n",
              "      <td>0</td>\n",
              "      <td>2</td>\n",
              "      <td>1.458406</td>\n",
              "      <td>0</td>\n",
              "      <td>0</td>\n",
              "      <td>1</td>\n",
              "    </tr>\n",
              "    <tr>\n",
              "      <th>1</th>\n",
              "      <td>1</td>\n",
              "      <td>1</td>\n",
              "      <td>1.071975</td>\n",
              "      <td>1</td>\n",
              "      <td>1</td>\n",
              "      <td>2</td>\n",
              "    </tr>\n",
              "    <tr>\n",
              "      <th>2</th>\n",
              "      <td>1</td>\n",
              "      <td>3</td>\n",
              "      <td>2.081424</td>\n",
              "      <td>1</td>\n",
              "      <td>2</td>\n",
              "      <td>3</td>\n",
              "    </tr>\n",
              "    <tr>\n",
              "      <th>3</th>\n",
              "      <td>0</td>\n",
              "      <td>2</td>\n",
              "      <td>0.119630</td>\n",
              "      <td>0</td>\n",
              "      <td>3</td>\n",
              "      <td>0</td>\n",
              "    </tr>\n",
              "    <tr>\n",
              "      <th>4</th>\n",
              "      <td>0</td>\n",
              "      <td>0</td>\n",
              "      <td>0.791035</td>\n",
              "      <td>0</td>\n",
              "      <td>2</td>\n",
              "      <td>0</td>\n",
              "    </tr>\n",
              "  </tbody>\n",
              "</table>\n",
              "</div>"
            ],
            "text/plain": [
              "   is_mobile  n_products_viewed  ...  time_of_day  user_action\n",
              "0          0                  2  ...            0            1\n",
              "1          1                  1  ...            1            2\n",
              "2          1                  3  ...            2            3\n",
              "3          0                  2  ...            3            0\n",
              "4          0                  0  ...            2            0\n",
              "\n",
              "[5 rows x 6 columns]"
            ]
          },
          "metadata": {},
          "execution_count": 4
        }
      ]
    },
    {
      "cell_type": "code",
      "metadata": {
        "id": "AEWcgH241cb4"
      },
      "source": [
        "# Columns by its type\n",
        "categorial = ['is_mobile','is_returning_visitor','time_of_day']\n",
        "numerical = ['n_products_viewed', 'visit_duration']"
      ],
      "execution_count": 5,
      "outputs": []
    },
    {
      "cell_type": "code",
      "metadata": {
        "id": "2lAQ9jHs3akg"
      },
      "source": [
        "time_of_day = df['time_of_day'].unique()"
      ],
      "execution_count": 7,
      "outputs": []
    },
    {
      "cell_type": "code",
      "metadata": {
        "id": "miuaPUDw3e9S"
      },
      "source": [
        "# One-hot enconding the time_of_day\n",
        "for day in time_of_day:\n",
        "  df['day_'+str(day)] = df['time_of_day'].apply( lambda x: 1 if x == day else 0)"
      ],
      "execution_count": 8,
      "outputs": []
    },
    {
      "cell_type": "code",
      "metadata": {
        "colab": {
          "base_uri": "https://localhost:8080/",
          "height": 224
        },
        "id": "tDv7d48Ab8qG",
        "outputId": "5927e49a-0ecf-48cd-d903-01e7e420c826"
      },
      "source": [
        "df.head()"
      ],
      "execution_count": 9,
      "outputs": [
        {
          "output_type": "execute_result",
          "data": {
            "text/html": [
              "<div>\n",
              "<style scoped>\n",
              "    .dataframe tbody tr th:only-of-type {\n",
              "        vertical-align: middle;\n",
              "    }\n",
              "\n",
              "    .dataframe tbody tr th {\n",
              "        vertical-align: top;\n",
              "    }\n",
              "\n",
              "    .dataframe thead th {\n",
              "        text-align: right;\n",
              "    }\n",
              "</style>\n",
              "<table border=\"1\" class=\"dataframe\">\n",
              "  <thead>\n",
              "    <tr style=\"text-align: right;\">\n",
              "      <th></th>\n",
              "      <th>is_mobile</th>\n",
              "      <th>n_products_viewed</th>\n",
              "      <th>visit_duration</th>\n",
              "      <th>is_returning_visitor</th>\n",
              "      <th>time_of_day</th>\n",
              "      <th>user_action</th>\n",
              "      <th>day_0</th>\n",
              "      <th>day_1</th>\n",
              "      <th>day_2</th>\n",
              "      <th>day_3</th>\n",
              "    </tr>\n",
              "  </thead>\n",
              "  <tbody>\n",
              "    <tr>\n",
              "      <th>0</th>\n",
              "      <td>0</td>\n",
              "      <td>2</td>\n",
              "      <td>1.458406</td>\n",
              "      <td>0</td>\n",
              "      <td>0</td>\n",
              "      <td>1</td>\n",
              "      <td>1</td>\n",
              "      <td>0</td>\n",
              "      <td>0</td>\n",
              "      <td>0</td>\n",
              "    </tr>\n",
              "    <tr>\n",
              "      <th>1</th>\n",
              "      <td>1</td>\n",
              "      <td>1</td>\n",
              "      <td>1.071975</td>\n",
              "      <td>1</td>\n",
              "      <td>1</td>\n",
              "      <td>2</td>\n",
              "      <td>0</td>\n",
              "      <td>1</td>\n",
              "      <td>0</td>\n",
              "      <td>0</td>\n",
              "    </tr>\n",
              "    <tr>\n",
              "      <th>2</th>\n",
              "      <td>1</td>\n",
              "      <td>3</td>\n",
              "      <td>2.081424</td>\n",
              "      <td>1</td>\n",
              "      <td>2</td>\n",
              "      <td>3</td>\n",
              "      <td>0</td>\n",
              "      <td>0</td>\n",
              "      <td>1</td>\n",
              "      <td>0</td>\n",
              "    </tr>\n",
              "    <tr>\n",
              "      <th>3</th>\n",
              "      <td>0</td>\n",
              "      <td>2</td>\n",
              "      <td>0.119630</td>\n",
              "      <td>0</td>\n",
              "      <td>3</td>\n",
              "      <td>0</td>\n",
              "      <td>0</td>\n",
              "      <td>0</td>\n",
              "      <td>0</td>\n",
              "      <td>1</td>\n",
              "    </tr>\n",
              "    <tr>\n",
              "      <th>4</th>\n",
              "      <td>0</td>\n",
              "      <td>0</td>\n",
              "      <td>0.791035</td>\n",
              "      <td>0</td>\n",
              "      <td>2</td>\n",
              "      <td>0</td>\n",
              "      <td>0</td>\n",
              "      <td>0</td>\n",
              "      <td>1</td>\n",
              "      <td>0</td>\n",
              "    </tr>\n",
              "  </tbody>\n",
              "</table>\n",
              "</div>"
            ],
            "text/plain": [
              "   is_mobile  n_products_viewed  visit_duration  ...  day_1  day_2  day_3\n",
              "0          0                  2        1.458406  ...      0      0      0\n",
              "1          1                  1        1.071975  ...      1      0      0\n",
              "2          1                  3        2.081424  ...      0      1      0\n",
              "3          0                  2        0.119630  ...      0      0      1\n",
              "4          0                  0        0.791035  ...      0      1      0\n",
              "\n",
              "[5 rows x 10 columns]"
            ]
          },
          "metadata": {},
          "execution_count": 9
        }
      ]
    },
    {
      "cell_type": "code",
      "metadata": {
        "id": "srbA4Y510IaQ"
      },
      "source": [
        "X = df.drop(['time_of_day','user_action'], axis =1)\n",
        "y = df['user_action'].astype(np.int32)"
      ],
      "execution_count": 10,
      "outputs": []
    },
    {
      "cell_type": "code",
      "metadata": {
        "colab": {
          "base_uri": "https://localhost:8080/"
        },
        "id": "EIslnmC64Okj",
        "outputId": "7f8de2b0-de84-4561-ab5b-d5d64665dadc"
      },
      "source": [
        "X.columns"
      ],
      "execution_count": 11,
      "outputs": [
        {
          "output_type": "execute_result",
          "data": {
            "text/plain": [
              "Index(['is_mobile', 'n_products_viewed', 'visit_duration',\n",
              "       'is_returning_visitor', 'day_0', 'day_1', 'day_2', 'day_3'],\n",
              "      dtype='object')"
            ]
          },
          "metadata": {},
          "execution_count": 11
        }
      ]
    },
    {
      "cell_type": "code",
      "metadata": {
        "id": "faRd1A2d01bj"
      },
      "source": [
        "Xtrain = X[:-100]\n",
        "Ytrain = y[:-100]\n",
        "Xtest = X[-100:]\n",
        "Ytest = y[-100:]"
      ],
      "execution_count": 41,
      "outputs": []
    },
    {
      "cell_type": "code",
      "metadata": {
        "colab": {
          "base_uri": "https://localhost:8080/"
        },
        "id": "_YDUkuT-gLXj",
        "outputId": "be06781d-e58f-43fa-8277-c49dd7264b2c"
      },
      "source": [
        "for col in numerical:\n",
        "  m = Xtrain[col].mean()\n",
        "  s = Xtrain[col].std()\n",
        "  Xtrain.loc[col] = (Xtrain[col] - m)/s\n",
        "  Xtest.loc[col] = (Xtest[col] - m)/s"
      ],
      "execution_count": 30,
      "outputs": [
        {
          "output_type": "stream",
          "name": "stderr",
          "text": [
            "/usr/local/lib/python3.7/dist-packages/pandas/core/indexing.py:670: SettingWithCopyWarning: \n",
            "A value is trying to be set on a copy of a slice from a DataFrame\n",
            "\n",
            "See the caveats in the documentation: https://pandas.pydata.org/pandas-docs/stable/user_guide/indexing.html#returning-a-view-versus-a-copy\n",
            "  iloc._setitem_with_indexer(indexer, value)\n"
          ]
        }
      ]
    },
    {
      "cell_type": "code",
      "metadata": {
        "id": "fQiDb0mZmuz3"
      },
      "source": [
        "  X2train = Xtrain[Ytrain <= 1]\n",
        "  Y2train = Ytrain[Ytrain <= 1]\n",
        "  X2test = Xtest[Ytest <= 1]\n",
        "  Y2test = Ytest[Ytest <= 1]"
      ],
      "execution_count": 52,
      "outputs": []
    },
    {
      "cell_type": "code",
      "metadata": {
        "id": "XMn2c5gOP3kV"
      },
      "source": [
        "# randomly initialize weights\n",
        "D = X2train.shape[1]\n",
        "W = np.random.randn(D)\n",
        "b = 0 # bias term"
      ],
      "execution_count": 53,
      "outputs": []
    },
    {
      "cell_type": "code",
      "metadata": {
        "id": "N14sXLlf21Gh"
      },
      "source": [
        "def sigmoid(z):\n",
        "  return 1/(1+np.exp(-z))"
      ],
      "execution_count": 54,
      "outputs": []
    },
    {
      "cell_type": "code",
      "metadata": {
        "id": "slE6c1y86nfL"
      },
      "source": [
        "def output(X,W,b):\n",
        "    return sigmoid(X.dot(W)+ b)"
      ],
      "execution_count": 55,
      "outputs": []
    },
    {
      "cell_type": "code",
      "metadata": {
        "id": "U6wKiAn9K-gS"
      },
      "source": [
        "# accuracy\n",
        "def classification_rate(Y,P):\n",
        "  return np.mean(Y==P)"
      ],
      "execution_count": 56,
      "outputs": []
    },
    {
      "cell_type": "code",
      "metadata": {
        "id": "nLDfLvEOhQm4"
      },
      "source": [
        "# cross entropy\n",
        "def cross_entropy(T, pY):\n",
        "    return -np.mean(T*np.log(pY) + (1 - T)*np.log(1 - pY))"
      ],
      "execution_count": 57,
      "outputs": []
    },
    {
      "cell_type": "code",
      "metadata": {
        "colab": {
          "base_uri": "https://localhost:8080/"
        },
        "id": "8-406XMqhbVP",
        "outputId": "0b820a6a-6281-42a0-8055-687e2e24a8c5"
      },
      "source": [
        "train_costs = []\n",
        "test_costs = []\n",
        "learning_rate = 0.001\n",
        "for i in range(10000):\n",
        "  pYtrain = output(X2train,W,b)\n",
        "  pYtest = output(X2test,W,b)\n",
        "\n",
        "  ctrain = cross_entropy(Y2train, pYtrain)\n",
        "  ctest = cross_entropy(Y2test, pYtest)\n",
        "  train_costs.append(ctrain)\n",
        "  test_costs.append(ctest)\n",
        "\n",
        "  # gradient descent\n",
        "  W -= learning_rate*X2train.T.dot(pYtrain - Y2train)\n",
        "  b -= learning_rate*(pYtrain - Y2train).sum()\n",
        "  if i % 1000 == 0:\n",
        "      print(i, ctrain, ctest)"
      ],
      "execution_count": 63,
      "outputs": [
        {
          "output_type": "stream",
          "name": "stdout",
          "text": [
            "0 0.1710672052238707 0.25508060236941305\n",
            "1000 0.16779152129874472 0.2537041521497866\n",
            "2000 0.1672966436085092 0.254335964812791\n",
            "3000 0.1671989908889377 0.2547998574930329\n",
            "4000 0.16717775474835975 0.2550526747563615\n",
            "5000 0.16717293910210956 0.2551810208070834\n",
            "6000 0.16717182584856655 0.2552445348114074\n",
            "7000 0.1671715661392476 0.2552756291224582\n",
            "8000 0.16717150528712343 0.2552907777338137\n",
            "9000 0.1671714909989182 0.2552981409905236\n"
          ]
        }
      ]
    },
    {
      "cell_type": "code",
      "metadata": {
        "id": "CLnnG5jGLIgB",
        "colab": {
          "base_uri": "https://localhost:8080/"
        },
        "outputId": "f55b3c56-4d69-4f17-bf07-7054784093ac"
      },
      "source": [
        "print(\"Final train classification_rate:\", classification_rate(Y2train, np.round(pYtrain)))\n",
        "print(\"Final test classification_rate:\", classification_rate(Y2test, np.round(pYtest)))"
      ],
      "execution_count": 64,
      "outputs": [
        {
          "output_type": "stream",
          "name": "stdout",
          "text": [
            "Final train classification_rate: 0.978125\n",
            "Final test classification_rate: 0.9487179487179487\n"
          ]
        }
      ]
    },
    {
      "cell_type": "code",
      "metadata": {
        "colab": {
          "base_uri": "https://localhost:8080/",
          "height": 265
        },
        "id": "5UNS4Jq1LRgo",
        "outputId": "1675cf9d-7323-476e-acc9-3ca811807144"
      },
      "source": [
        "legend1, = plt.plot(train_costs, label='train cost')\n",
        "legend2, = plt.plot(test_costs, label='test cost')\n",
        "plt.legend([legend1, legend2])\n",
        "plt.show()"
      ],
      "execution_count": 62,
      "outputs": [
        {
          "output_type": "display_data",
          "data": {
            "image/png": "[encoded data removed]",
            "text/plain": [
              "<Figure size 432x288 with 1 Axes>"
            ]
          },
          "metadata": {
            "needs_background": "light"
          }
        }
      ]
    }
  ]
}